{
 "cells": [
  {
   "cell_type": "markdown",
   "id": "local-shepherd",
   "metadata": {},
   "source": [
    "<a href=\"https://breakingbad.echosystem.fr/\">![Breaking DDES](dados/titulo.png)</a>\n",
    "\n",
    "\n",
    "\n",
    "\n",
    "*v3M sEr hAcKUdÃ0 4m19uiNh0*\n",
    "\n",
    "# 1. DES\n",
    "\n",
    "* *Data Encryption Standard* (IBM - 1975)\n",
    "* Cifra de blocos (Rede Feistel - 16 rodadas)\n",
    "* Tamanho do bloco: 64 bits\n",
    "* Tamanho da chave: 56 bits (72,057,594,037,927,936 chaves)\n",
    "    * Chave quebrada em 1999 ([EFF DES Cracker](https://en.wikipedia.org/wiki/EFF_DES_cracker),Força bruta ~22h)\n",
    "* Algoritmo lento\n",
    "\n",
    "### Cifra de blocos\n",
    "Uma cifra de blocos consiste em dois algoritmos, um para criptografar *E* e outro para descriptografar *D*. Ambos os algoritmos aceitam dois parâmetros: Um bloco de comprimento conhecido e uma chave. O resultado do algoritmo é outro bloco.\n",
    "\n",
    "A chave utilizada nas cifras de blocos é simétrica, ou seja, a mesma chave que faz a criptografia os dados também faz a descriptografia.\n",
    "\n",
    "O algoritmo *E* recebe como parâmetros um bloco de **texto** (*plaintext*) e a chave, retornando um bloco de **texto cifrado** (*ciphertext*). Já a função de descriptografar *D* faz a operação inversa.\n",
    "\n",
    "![Cifra de Blocos](dados/DES-block.png)\n",
    "\n",
    "> ### Cifra de blocos cheatsheet\n",
    "> * Opera em blocos de tamanho conhecido\n",
    "> * Usa chaves simétricas\n",
    "> * [AES](https://en.wikipedia.org/wiki/Advanced_Encryption_Standard) é provavelmente a cifra de blocos mais utilizada no mundo.\n",
    "\n",
    "### Rede de Feistel\n",
    "\n",
    "[Computerphile](https://www.youtube.com/watch?v=FGhj3CGxl8I&ab_channel=Computerphile)\n",
    "\n",
    "Para os curiosos, uma rede de Feistel, ou cifra de bloco Luby–Rackoff, é o algoritmo base do DES. O funcionamento está além do escopo desse `notebook`, então fica aí a ilustração.\n",
    "\n",
    "<img src=\"dados/Feistel_cipher_diagram_en.svg\" style=\"width:50%;\"></img>\n",
    "\n",
    "Um fato interessante da rede de Feistel é que a função de descriptografar *D* é a mesma de criptografar *E*, porém com as sub-chaves invertidas.\n",
    "\n",
    "Também notem o uso do operador *XOR* ⊕ na cifra, esse operador é muito utilizado em criptografia.\n",
    "\n",
    "## Exemplinho de DES"
   ]
  },
  {
   "cell_type": "code",
   "execution_count": 1,
   "id": "manual-million",
   "metadata": {},
   "outputs": [
    {
     "name": "stdout",
     "output_type": "stream",
     "text": [
      "Texto original:  b'UMA METILAMINA POR FAVOR'\n",
      "Texto cifrado:   b'\\xd9\\x81G\\xd8\\xad\\xd9\\x88\\xbeX\\x9fy\\xc02\\x9a\\x99\\xff)0o%\\xc5M\\x03\\xa8'\n",
      "Texto decifrado: b'UMA METILAMINA POR FAVOR'\n"
     ]
    }
   ],
   "source": [
    "from Crypto.Cipher import DES\n",
    "\n",
    "chave = b'1OCTANOL'\n",
    "texto = b\"UMA METILAMINA POR FAVOR\"\n",
    "\n",
    "des = DES.new(chave, DES.MODE_ECB)\n",
    "\n",
    "print(\"Texto original: \", texto)\n",
    "\n",
    "cifrado = des.encrypt(texto)\n",
    "print(\"Texto cifrado:  \", cifrado)\n",
    "\n",
    "decifrado = des.decrypt(cifrado)\n",
    "print(\"Texto decifrado:\", decifrado)"
   ]
  },
  {
   "cell_type": "markdown",
   "id": "vietnamese-warning",
   "metadata": {},
   "source": [
    "Algumas moléculas, nada a ver com o assunto.\n",
    "\n",
    "<table>\n",
    "    <tr>\n",
    "        <td>\n",
    "          <img src=\"dados/octanol.png\"></img>\n",
    "        </td>\n",
    "        <td>\n",
    "          <img src=\"dados/metilamina.png\"></img>\n",
    "        </td>\n",
    "        <td>\n",
    "          <img src=\"dados/sulfurico.png\"></img>\n",
    "        </td>\n",
    "     </tr>\n",
    "     <tr>\n",
    "        <td style=\"text-align: center;\">\n",
    "            <a href=\"https://en.wikipedia.org/wiki/1-Octanol\">Octanol</a>\n",
    "        </td>\n",
    "        <td style=\"text-align: center;\">\n",
    "            <a href=\"https://en.wikipedia.org/wiki/Methylamine\">Metilamina</a>\n",
    "        </td>\n",
    "        <td style=\"text-align: center;\">\n",
    "            <a href=\"https://en.wikipedia.org/wiki/Sulfuric_acid\">Ácido Sulfúrico</a>\n",
    "        </td>\n",
    "     </tr>\n",
    "</table>"
   ]
  },
  {
   "cell_type": "markdown",
   "id": "parental-margin",
   "metadata": {},
   "source": [
    "# 2. Breaking DES\n",
    "\n",
    "Vamos tentar descriptografar os seguintes dados:\n",
    "```python\n",
    "cifra = b\"\\x8a\\xa8!hpzjU&\\xc6\\x07#Z\\x8d\\xa9\\xdd\\xbf_=\\x0fe\\x8eV\\xfa\\xb6W\\xf61;8\\r\\x8el\\xd2\\xab\\x8eD\\xc2\\xc0\\xac\\x8cM\\xe6\\x8eK\\x04#z[\\x84q\\x81\\xfbc\\xd3\\xd7\"\n",
    "```\n",
    "\n",
    "Podemos criar uma chave aleatória e ver no que dá:\n",
    "```python\n",
    "chave = b\"sera?\"\n",
    "```"
   ]
  },
  {
   "cell_type": "code",
   "execution_count": 20,
   "id": "mathematical-romantic",
   "metadata": {},
   "outputs": [
    {
     "data": {
      "text/plain": [
       "b\"\\x8e~\\xaf'\\x91\\xcc&\\xd4\\xe1\\xb6l\\x1d\\x93&\\xc5\\xf0&\\xb7c\\x0fl\\xa5a\\xc8K7\\xf5\\xef?O\\xdd\\xc4\\xcc\\xfat\\x1e\\xb1\\x873\\x9f\\xb9\\x8a\\x84jf\\xfaL!\\xb3\\xf9\\xca\\x10X\\xb6\\x91e\""
      ]
     },
     "execution_count": 20,
     "metadata": {},
     "output_type": "execute_result"
    }
   ],
   "source": [
    "def pad(data, mod=8):\n",
    "    \"\"\"\n",
    "    Garante que `data` sempre tem comprimento multiplo de `mod`.\n",
    "    \"\"\"\n",
    "    padding = b\" \"*(mod - (len(data) % mod))\n",
    "    padding = padding if len(padding) % mod != 0 else b\"\"\n",
    "    return data + padding\n",
    "\n",
    "cifra = b'\\x8a\\xa8!hpzjU&\\xc6\\x07#Z\\x8d\\xa9\\xdd\\xbf_=\\x0fe\\x8eV\\xfa\\xb6W\\xf61;8\\r\\x8el\\xd2\\xab\\x8eD\\xc2\\xc0\\xac\\x8cM\\xe6\\x8eK\\x04#z[\\x84q\\x81\\xfbc\\xd3\\xd7'\n",
    "chave = pad(b\"sera?\")\n",
    "des = DES.new(chave, DES.MODE_ECB)\n",
    "des.decrypt(cifra)"
   ]
  },
  {
   "cell_type": "markdown",
   "id": "female-thousand",
   "metadata": {},
   "source": [
    "Bom, o resultado não está nem perto de alguma mensagem inteligivel. Muito provavelmente não é essa a chave.\n",
    "\n",
    "Para quebrar o DES, vamos nos aproveitar do fato que o espaço das chaves é relativamente pequeno (72 quadrilhões) e tentar cada chave possível.\n",
    "\n",
    "...mentira, vamos reduzir ainda mais o espaço das chaves pra poder rodar em tempo hábil. Vamos considerar que a chave contém somente letras maiusculas e números. Também vamos considerar que a chave tem no máximo 5 caracteres. Isso vai reduzir o espaço das chaves pra perto de 60 milhões (36^5)."
   ]
  },
  {
   "cell_type": "code",
   "execution_count": 3,
   "id": "vertical-contemporary",
   "metadata": {},
   "outputs": [
    {
     "name": "stdout",
     "output_type": "stream",
     "text": [
      "Chave: b'AWIL'\n",
      "Descriptografado: b'}\\x01E\\x97\\x95#\\xe6\\xcb\\xc5{\\xc7\\xa1\\\\\\n\\x8d\\xd8!k\\xbeb\\xf6W\\xdd\\x95\\x89R)Yv\\xe2\\x9b\\x8dhGy\\xdf\\x10\\xfaJ\\xb9\\xda_\\xae\\xe3o\\xe1\\x83M\\xb4\\xa8\\xe88\\x11z\\x8b\\xdb'\n",
      "\n",
      "Chave: b'AWIM'\n",
      "Descriptografado: b'}\\x01E\\x97\\x95#\\xe6\\xcb\\xc5{\\xc7\\xa1\\\\\\n\\x8d\\xd8!k\\xbeb\\xf6W\\xdd\\x95\\x89R)Yv\\xe2\\x9b\\x8dhGy\\xdf\\x10\\xfaJ\\xb9\\xda_\\xae\\xe3o\\xe1\\x83M\\xb4\\xa8\\xe88\\x11z\\x8b\\xdb'\n",
      "\n",
      "Chave: b'AWIO'\n",
      "Descriptografado: b'\\x98\\\\\\xe1\\x04\\xe9hd\\xf5k\\x85\\x06\\xafp.\\xb7\\xf3\\xe6D\\x13\\xda\\x98{\\x9e\\x94\\xc9@\\x84J\\x9f\\x87\\xd7\\x825\\xed\\xaf*\\xe2\\x93\\xe1\\xde\\xb3|v\\xcd\\xef\\xc8\\xeb\\xe0\\x05\\xb3\\n\\xd4\\xaa\\xc4]\\x94'\n",
      "\n",
      "Chave: b'AWIN'\n",
      "Descriptografado: b'\\x98\\\\\\xe1\\x04\\xe9hd\\xf5k\\x85\\x06\\xafp.\\xb7\\xf3\\xe6D\\x13\\xda\\x98{\\x9e\\x94\\xc9@\\x84J\\x9f\\x87\\xd7\\x825\\xed\\xaf*\\xe2\\x93\\xe1\\xde\\xb3|v\\xcd\\xef\\xc8\\xeb\\xe0\\x05\\xb3\\n\\xd4\\xaa\\xc4]\\x94'\n",
      "\n",
      "Chave: b'AWIP'\n",
      "Descriptografado: b'_\\xd0\\x96\\x1cl\\xf5\\xe6\\x11\\xd3\\x0b\\xac\\xda\\x1a\\xfc\\x9a\\xc4\\x98\\x9c:\\xec:6W\\x1c\\x87-_\\x00\\xd1]mwnN\\xb0+\\xe5*\\x94\\x97\\xae\\x1a\\x0b\\xc5\\xee[F\\x8b\\xbd*g\\xb2\\x85!|\\x13'\n",
      "\n"
     ]
    }
   ],
   "source": [
    "from itertools import product\n",
    "\n",
    "def gerar_chave(alfabeto):\n",
    "    MAXIMO = 5\n",
    "    for i in range(MAXIMO+1):\n",
    "        for c in product(alfabeto, repeat=i):\n",
    "            yield \"\".join(c).encode(\"ascii\")\n",
    "\n",
    "alfabeto = \"HABCDEFGIJKLMONPQSRTUVWXYZ0123456789\"\n",
    "chaves = gerar_chave(alfabeto)\n",
    "\n",
    "# Mostra as chaves\n",
    "regiao = 123456\n",
    "for chave in [next(chaves) for _ in range(regiao+5)][regiao:]:\n",
    "    des = DES.new(pad(chave), DES.MODE_ECB)\n",
    "    print(\"Chave:\", chave)\n",
    "    print(\"Descriptografado:\", des.decrypt(cifra))\n",
    "    print()"
   ]
  },
  {
   "cell_type": "markdown",
   "id": "micro-rider",
   "metadata": {},
   "source": [
    "Vamos então tentar todas as chaves até encontrar o texto."
   ]
  },
  {
   "cell_type": "code",
   "execution_count": 4,
   "id": "preliminary-fountain",
   "metadata": {
    "scrolled": true
   },
   "outputs": [
    {
     "data": {
      "application/vnd.jupyter.widget-view+json": {
       "model_id": "f38b4f76ec484ad791dfc0e2281bb9b3",
       "version_major": 2,
       "version_minor": 0
      },
      "text/plain": [
       "Breaking DES:   0%|          | 0/60466176 [00:00<?, ?it/s]"
      ]
     },
     "metadata": {},
     "output_type": "display_data"
    },
    {
     "name": "stdout",
     "output_type": "stream",
     "text": [
      "ACHOOOOOU!\n",
      "Texto: So you do have a plan! Yeah Mr. White! Yeah Science!    \n",
      "Chave: b'H2SO4'\n"
     ]
    }
   ],
   "source": [
    "from tqdm.notebook import tqdm\n",
    "\n",
    "def breaking_des():\n",
    "    for chave in tqdm(gerar_chave(alfabeto), total=len(alfabeto) ** 5, desc=\"Breaking DES\"):\n",
    "        des = DES.new(pad(chave), DES.MODE_ECB)\n",
    "        texto = des.decrypt(cifra)\n",
    "        try:\n",
    "            texto = texto.decode(\"ascii\")\n",
    "            print(\"ACHOOOOOU!\")\n",
    "            print(\"Texto:\", texto)\n",
    "            print(\"Chave:\", chave)\n",
    "            break\n",
    "        except UnicodeDecodeError:\n",
    "            pass\n",
    "\n",
    "breaking_des()"
   ]
  },
  {
   "cell_type": "markdown",
   "id": "found-battle",
   "metadata": {},
   "source": [
    ".\n",
    "\n",
    ".\n",
    "\n",
    ".\n",
    "\n",
    ".\n",
    "\n",
    ".\n",
    "\n",
    ".\n",
    "\n",
    ".\n",
    "\n",
    ".\n",
    "\n",
    "### UOOOU! Um minuto!\n",
    "\n",
    "![yeah science](dados/yeah_science.gif)\n",
    "\n",
    "É claro que estamos reduzindo muito o espaço de busca, mas acredite que é uma estratégia viável.\n",
    "Em 1999 foi criada uma máquina ([EFF DES Cracker](https://en.wikipedia.org/wiki/EFF_DES_cracker)) capaz de tentar todas as chaves possíveis em aproximadamente 9 dias.\n",
    "\n",
    "![DES Cracker](dados/Paul_kocher_deepcrack.jpg)\n",
    "\n",
    "Hoje em dia é possível comprar hardware capaz de testar todas as combinações em 26 horas: https://crack.sh/"
   ]
  },
  {
   "cell_type": "markdown",
   "id": "better-joyce",
   "metadata": {},
   "source": [
    "# 2. Double DES\n",
    "Bom, se usar o DES uma vez não resiste ataques de força bruta, então vamos criptografar mais vezes o texto. Se rodarmos duas vezes o DES com chaves diferentes certamente teremos algo mais seguro."
   ]
  },
  {
   "cell_type": "code",
   "execution_count": 22,
   "id": "competent-hobby",
   "metadata": {},
   "outputs": [
    {
     "data": {
      "text/plain": [
       "b'choque  '"
      ]
     },
     "execution_count": 22,
     "metadata": {},
     "output_type": "execute_result"
    }
   ],
   "source": [
    "_des_cache = {}\n",
    "def des_cache(chave):\n",
    "    if chave in _des_cache:\n",
    "        return _des_cache[chave]\n",
    "    \n",
    "def double_des_enc(texto, chave1, chave2):\n",
    "    des1 = DES.new(pad(chave1), DES.MODE_ECB)\n",
    "    des2 = DES.new(pad(chave2), DES.MODE_ECB)\n",
    "    return des2.encrypt(des1.encrypt(texto))\n",
    "\n",
    "def double_des_dec(texto, chave1, chave2):\n",
    "    des1 = DES.new(pad(chave1), DES.MODE_ECB)\n",
    "    des2 = DES.new(pad(chave2), DES.MODE_ECB)\n",
    "    return des1.decrypt(des2.decrypt(texto))\n",
    "\n",
    "chave1 = b\"123\"\n",
    "chave2 = b\"456\"\n",
    "dcipher = double_des_enc(pad(b\"choque\"), chave1, chave2)\n",
    "dtext = double_des_dec(dcipher, chave1, chave2)\n",
    "dtext"
   ]
  },
  {
   "cell_type": "markdown",
   "id": "based-surname",
   "metadata": {},
   "source": [
    "\n",
    "Certamente aplicando o DES duas vezes no texto vai ser seguro CERTO?\n",
    "\n",
    ".\n",
    "\n",
    ".\n",
    "\n",
    ".\n",
    "\n",
    ".\n",
    "\n",
    ".\n",
    "\n",
    ".\n",
    "\n",
    ".\n",
    "\n",
    ".\n",
    "\n",
    ".\n",
    "\n",
    "![errado](dados/achou-errado-otario.jpg)"
   ]
  }
 ],
 "metadata": {
  "kernelspec": {
   "display_name": "Python 3",
   "language": "python",
   "name": "python3"
  },
  "language_info": {
   "codemirror_mode": {
    "name": "ipython",
    "version": 3
   },
   "file_extension": ".py",
   "mimetype": "text/x-python",
   "name": "python",
   "nbconvert_exporter": "python",
   "pygments_lexer": "ipython3",
   "version": "3.9.2"
  }
 },
 "nbformat": 4,
 "nbformat_minor": 5
}
