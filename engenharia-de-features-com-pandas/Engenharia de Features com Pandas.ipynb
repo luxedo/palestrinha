{
 "cells": [
  {
   "cell_type": "markdown",
   "metadata": {},
   "source": [
    "<br/>\n",
    "<span style=\"font-size: 3em;\"> 🚢🐼🌳 Engenharia de Features com Pandas</span>\n",
    "\n",
    "Neste `notebook` vamos estudar a biblioteca `pandas`, usando um conjunto de dados dos passageiros do **RMS Titanic**. Por último, tentaremos extrair informações dos dados a partir de árvores de decisão.\n",
    "\n",
    "![Pandas](dados/944693_1_1029_panda_diplomacy_standard.jpg)\n",
    "\n",
    "\n",
    "## O Que é `pandas`?\n",
    "\n",
    "> ### Python Data Analysis Library\n",
    "> Um conjunto de ferramentas para análise de dados em `Python`.\n",
    "\n",
    "# 1. DataFrames\n",
    "A estrutura de dados mais utilizada em `pandas` é o [`DataFrame`](https://pandas.pydata.org/pandas-docs/stable/reference/api/pandas.DataFrame.html), que armazena os dados na forma de uma tabela. Os dados são indexados pelas colunas (*columns*) e pelas linhas (*indexes*).\n",
    "\n",
    "Os `DataFrames` também possuem diversos métodos para computar estatísticas e processar os dados.\n",
    "\n",
    "Existem várias maneiras de declarar um `DataFrame`. Uma forma comum é passar um dicionário (`dict`) no qual as chaves são as colunas e os valores são listas das linhas:"
   ]
  },
  {
   "cell_type": "code",
   "execution_count": null,
   "metadata": {},
   "outputs": [],
   "source": [
    "import pandas as pd\n",
    "from sklearn import metrics, tree\n",
    "\n",
    "# Podem ignorar os imports abaixo\n",
    "import os\n",
    "if os.name == \"nt\":\n",
    "    os.environ[\"PATH\"] += os.pathsep + \"C:/Program Files (x86)/Graphviz2.38/bin/\"\n",
    "\n",
    "import graphviz\n",
    "import matplotlib as mpl\n",
    "import matplotlib.pyplot as plt\n",
    "%matplotlib inline\n",
    "PALETA = [item[\"color\"] for item in list(mpl.rcParams['axes.prop_cycle'])]"
   ]
  },
  {
   "cell_type": "code",
   "execution_count": null,
   "metadata": {},
   "outputs": [],
   "source": [
    "dados = {\n",
    "    \"bamboo\": [0, 10, 20],\n",
    "    \"taquara\": [5, 15, 25],\n",
    "    \"grama\": [-1, -2, None],\n",
    "}\n",
    "df_panda = pd.DataFrame(dados)\n",
    "df_panda  # Somente para exibir a tabela"
   ]
  },
  {
   "cell_type": "markdown",
   "metadata": {},
   "source": [
    "O valor de retorno da última linha de um bloco de código é exibido no notebook, por isso a tabela acima é exibida.\n",
    "\n",
    "Também é possível passar apenas os valores e declarar as colunas ou linhas no construtor do `DataFrame`:"
   ]
  },
  {
   "cell_type": "code",
   "execution_count": null,
   "metadata": {},
   "outputs": [],
   "source": [
    "dados = [[0, 5, -1], [10, 15, -2], [20, 25, None]]\n",
    "pd.DataFrame(dados, columns=[\"bamboo\", \"taquara\", \"grama\"])"
   ]
  },
  {
   "cell_type": "markdown",
   "metadata": {},
   "source": [
    "Provavelmente as formas mais utilizadas para carregar um `DataFrame` são aquelas que carregam dados em disco. Entre os formatos suportados estão:\n",
    "1. CSV\n",
    "1. Excel\n",
    "1. HDFS\n",
    "1. JSON\n",
    "1. Pickle\n",
    "1. Parquet\n",
    "1. SQL\n",
    "\n",
    "Temos um arquivo `csv` de exemplo em `dados/train.csv`. As primeiras linhas do arquivo são:"
   ]
  },
  {
   "cell_type": "code",
   "execution_count": null,
   "metadata": {},
   "outputs": [],
   "source": [
    "ARQUIVO_TRAIN = \"dados/train.csv\"\n",
    "\n",
    "with open(ARQUIVO_TRAIN, \"r\") as fp:\n",
    "    dados = fp.read()\n",
    "    print(\"O arquivo: {0} contém {1} linhas\\n\".format(ARQUIVO_TRAIN, len(dados.split(\"\\n\"))-1))\n",
    "    print(\"\\n\".join(dados.split(\"\\n\")[:5]))"
   ]
  },
  {
   "cell_type": "markdown",
   "metadata": {},
   "source": [
    "Para abrir um arquivo `csv` basta invocar a função `read_csv` do `pandas`. Os métodos `head` e `tail` permitem investigar o começo e o fim do `DataFrame`."
   ]
  },
  {
   "cell_type": "code",
   "execution_count": null,
   "metadata": {},
   "outputs": [],
   "source": [
    "df = pd.read_csv(ARQUIVO_TRAIN)\n",
    "df.head()"
   ]
  },
  {
   "cell_type": "code",
   "execution_count": null,
   "metadata": {},
   "outputs": [],
   "source": [
    "df.tail()"
   ]
  },
  {
   "cell_type": "markdown",
   "metadata": {},
   "source": [
    "Vamos usar o método `head` para mostrar apenas um pedaço dos `DataFrames` daqui em diante.\n",
    "\n",
    "----\n",
    "## Exercícios\n",
    "\n",
    "### E1.1:\n",
    "Declare um `DataFrame` com o nome `df_teste` abrindo o arquivo `dados/test.csv` usando a função `read_csv`."
   ]
  },
  {
   "cell_type": "code",
   "execution_count": null,
   "metadata": {},
   "outputs": [],
   "source": [
    "# Preencher a linha abaixo\n",
    "df_teste =\n",
    "\n",
    "# A linha abaixo serve somente para mostrar o dataframe \n",
    "df_teste.head()"
   ]
  },
  {
   "cell_type": "markdown",
   "metadata": {},
   "source": [
    "### E1.2:\n",
    "Declare um `DataFrame` com o nome de `df_filmes` contendo os seguintes dados:\n",
    "\n",
    "|Filme|Ano|País|Amor|\n",
    "|---|---|---|---|\n",
    "|Saved from The Titanic|1912|Estados Unidos|False|\n",
    "|In Nacht und Eis|1912|Alemanha|False|\n",
    "|Atlantik|1929|Inglaterra/Alemanha|False|\n",
    "|Titanic|1943|Alemanha|False|\n",
    "|Titanic|1953|Estados Unidos|False\n",
    "|A Night to Remember|1958|Inglaterra|False|\n",
    "|Titanica|1992|Estados Unidos/Russia/Canadá|False|\n",
    "|Titanic|1997|Estados Unidos|True|\n",
    "|La leggenda del Titanic|1999|Itália|False|\n",
    "|Ghosts of the Abyss|2003|Estados Unidos|False|\n",
    "|[Titanic II](https://en.wikipedia.org/wiki/Titanic_II_(film))|2010|Estados Unidos|False|"
   ]
  },
  {
   "cell_type": "code",
   "execution_count": null,
   "metadata": {},
   "outputs": [],
   "source": [
    "### Responder nas linhas abaixo\n",
    "\n",
    "\n",
    "\n",
    "\n",
    "\n",
    "\n",
    "\n",
    "\n",
    "\n",
    "\n",
    "\n",
    "# A linha abaixo serve somente para mostrar o dataframe \n",
    "df_filmes"
   ]
  },
  {
   "cell_type": "markdown",
   "metadata": {},
   "source": [
    "# 2. ... near, far, wherever you are\n",
    "\n",
    "<img src=\"dados/titanic-movie-promo-stills-wallpaper-4.jpg\" width=800>\n",
    "\n",
    "Vamos entender um pouco do conjunto de dados que acabamos de carregar. \n",
    "\n",
    "Pra quem nunca viu o filme, o navio **RMS Titanic**, considerado inaufragável, partiu no dia 10 de abril de 1912, de Southampton, com destino à Nova York, fazendo paradas em Cherbourg e Queenstown. Às 23:40 da noite do dia 14 de abril, o navio colidiu com um iceberg, danificando o lado de estibordo da embarcação e iniciando a inundação de 5 compartimentos, o que inevitávelmente causaria seu naufrágio.\n",
    "\n",
    "![Mapa Titanic](dados/Titanic_voyage_map.png)\n",
    "\n",
    "O navio se parte ao meio às 2:20 da madrugada com mais de 1000 passageiros à bordo. Das estimadas 2224 pessoas à bordo, cerca de 705 sobreviveram. O Titanic estava a dois dias de viagem de seu destino.\n",
    "\n",
    "### [spoilers]\n",
    "> Nesse meio tempo, Rose, que está noiva, conhece Jack, rola um arrocha, ela larga o boy lixo pra ficar com Jack, o navio afunda e o casal também. Rose consegue subir numa porta à deriva e Jack não tem competência suficiente pra subir na porta e acaba morrendo.\n",
    "\n",
    "<img src=\"dados/titanic_door.jpg\" width=600>\n",
    "\n",
    "## Conjunto de dados\n",
    "\n",
    "Cada linha do conjunto de dados representa um passageiro. As colunas são as seguintes:\n",
    "\n",
    "1. PassengerId: Id único do passageiro\n",
    "1. Survived: (1) se o passageiro sobreviveu ao naufrágio, (0) caso contrário\n",
    "1. Pclass: Classe do passageiro (1ª, 2ª ou 3ª)\n",
    "1. Name: Nome do passageiro\n",
    "1. Sex: Sexo do passageiro\n",
    "1. SibSp: Número de irmãos ou esposo(a)s\n",
    "1. Parch: Número de pais ou filhos\n",
    "1. Ticket: Número do ticket\n",
    "1. Fare: Tarifa da passagem\n",
    "1. Cabin: Número da cabine\n",
    "1. Embarked: Cidade em que o passageiro embarcou (C - Cherbourg, S - Southampton, Q - Queenstown)\n",
    "\n",
    "Os dados são da competição de _Machine Learning_ do [Kaggle](https://www.kaggle.com/c/titanic)\n",
    "\n",
    "## Definição do problema\n",
    "\n",
    "O objetivo da competição do [Kaggle](https://www.kaggle.com), no conjunto de dados do **Titanic**, é de gerar um modelo capaz de determinar quais passageiros sobreviveram ao naufrágio. \n",
    "\n",
    "O _Kaggle_ fornece um conjunto de dados dividido em duas partes, a primeira consiste em uma lista com 891 passageiros e suas características (features), como vimos anteriormente. Chamaremos essa fatia dos dados de _conjunto de treino_ . A segunda parte é uma lista com 418 passageiros com as mesmas características, exceto pela coluna `Survived`, que somente o _Kaggle_ tem acesso. Chamaremos essa outra parte dos dados de _conjunto de testes_ .\n",
    "\n",
    "> O objetivo, então, é gerar a coluna `Survived` para a segunda parte do conjunto de dados e enviar os dados para o _Kaggle_ , que calcula a quantidade de acertos.\n",
    "\n",
    "Podemos explorar os dados de teste por meio do `DataFrame` `df_teste`:"
   ]
  },
  {
   "cell_type": "code",
   "execution_count": null,
   "metadata": {},
   "outputs": [],
   "source": [
    "ARQUIVO_TESTE = \"dados/test.csv\"\n",
    "df_teste = pd.read_csv(ARQUIVO_TESTE)\n",
    "df_teste.head()"
   ]
  },
  {
   "cell_type": "code",
   "execution_count": null,
   "metadata": {},
   "outputs": [],
   "source": [
    "# Fique à vontade para explorar o DataFrame\n"
   ]
  },
  {
   "cell_type": "markdown",
   "metadata": {},
   "source": [
    "Antes de <span style=\"font-size: 1.5em\">mergulhar 🤦</span> no problema, vamos entender um pouco mais sobre `DataFrames`. Vamos pré-processar os dados e isso será útil para entender as operações que faremos posteriormente.\n",
    "\n",
    "## 2.1. Indexação e Seleção de dados\n",
    "O método `loc` é utilizado para selecionar dados no `DataFrame`. Esse método implementa o `__getitem__`, ou seja, ao contrário de `__call__`, que usa parênteses `()` para chamar uma função, esse método é invocado por colchetes `[]`."
   ]
  },
  {
   "cell_type": "code",
   "execution_count": null,
   "metadata": {},
   "outputs": [],
   "source": [
    "df.head()"
   ]
  },
  {
   "cell_type": "markdown",
   "metadata": {},
   "source": [
    "Para ler uma linha do `DataFrame`, basta passar um único índice para o método `loc`:"
   ]
  },
  {
   "cell_type": "code",
   "execution_count": null,
   "metadata": {},
   "outputs": [],
   "source": [
    "df.loc[0]"
   ]
  },
  {
   "cell_type": "markdown",
   "metadata": {},
   "source": [
    "Também é possível passar um intervalo para o método:"
   ]
  },
  {
   "cell_type": "code",
   "execution_count": null,
   "metadata": {},
   "outputs": [],
   "source": [
    "df.loc[0:2]"
   ]
  },
  {
   "cell_type": "markdown",
   "metadata": {},
   "source": [
    "Ou então uma lista de índices:"
   ]
  },
  {
   "cell_type": "code",
   "execution_count": null,
   "metadata": {},
   "outputs": [],
   "source": [
    "df.loc[[0, 3, 5]]"
   ]
  },
  {
   "cell_type": "markdown",
   "metadata": {},
   "source": [
    "Para um `DataFrame` também é possível selecionar colunas com o método `loc` usando o segundo argumento:"
   ]
  },
  {
   "cell_type": "code",
   "execution_count": null,
   "metadata": {},
   "outputs": [],
   "source": [
    "df.loc[:, [\"Name\"]].head()"
   ]
  },
  {
   "cell_type": "markdown",
   "metadata": {},
   "source": [
    "Outra forma de indexação é feita diretamente sobre o objeto do `DataFrame` usando colchetes `[]` (`__getitem__`), selecionando as colunas. Chamaremos este modo de **indexação básica**."
   ]
  },
  {
   "cell_type": "code",
   "execution_count": null,
   "metadata": {},
   "outputs": [],
   "source": [
    "df[\"Name\"].head()"
   ]
  },
  {
   "cell_type": "code",
   "execution_count": null,
   "metadata": {},
   "outputs": [],
   "source": [
    "df[[\"Name\"]].head()"
   ]
  },
  {
   "cell_type": "markdown",
   "metadata": {},
   "source": [
    "Qual é a diferença entre as duas últimas chamadas?\n",
    "\n",
    "```python \n",
    "df[\"name\"].head()\n",
    "# e #\n",
    "df[[\"name\"]].head()\n",
    "```\n",
    "\n",
    "> ### Pandas Series\n",
    "É importante ressaltar que existe outra estrutura de dados importante em `pandas` que se chama [`Series`](https://pandas.pydata.org/pandas-docs/stable/reference/api/pandas.Series.html). Esta estrutura representa uma sequência de dados de apenas uma dimensão, enquanto o `DataFrame` tem duas dimensões. Análogamente à algebra linear, as `Series` seriam equivalentes às **listas**, enquanto os `DataFrame`s seriam equivalentes às **matrizes**. Muitos métodos dessas duas estruturas são idênticos.\n",
    ">\n",
    "> As linhas e colunas de um `DataFrame` são representadas por uma `Series`.\n",
    ">\n",
    "> Uma instância de uma `Series` é feita com a classe `pd.Series`."
   ]
  },
  {
   "cell_type": "code",
   "execution_count": null,
   "metadata": {},
   "outputs": [],
   "source": [
    "pd.Series([\"🚢\", \"🧊\", \"🕳️\", \"💀\"])"
   ]
  },
  {
   "cell_type": "markdown",
   "metadata": {},
   "source": [
    "---\n",
    "## Exercícios\n",
    "\n",
    "### E2.1.1\n",
    "Qual é o nome do passageiro na linha `456`?"
   ]
  },
  {
   "cell_type": "code",
   "execution_count": null,
   "metadata": {},
   "outputs": [],
   "source": []
  },
  {
   "cell_type": "markdown",
   "metadata": {},
   "source": [
    "### E2.1.2\n",
    "Selecione a coluna `Cabin` dos passageiros das linhas `571` até `581`"
   ]
  },
  {
   "cell_type": "code",
   "execution_count": null,
   "metadata": {},
   "outputs": [],
   "source": []
  },
  {
   "cell_type": "markdown",
   "metadata": {},
   "source": [
    "## 2.2. Indexação Booleana\n",
    "\n",
    "Algumas operações em `pandas` retornam séries *booleanas*, que podem ser usadas para selecionar (filtrar) os dados. As formas mais comuns de filtragem envolvem a utilização dos operadores de comparação do `python`.\n",
    "\n",
    "Para selecionar apenas os passageiros da primeira classe, primeiramente é preciso constrir uma `Series` booleana:"
   ]
  },
  {
   "cell_type": "code",
   "execution_count": null,
   "metadata": {},
   "outputs": [],
   "source": [
    "(df[\"Pclass\"] == 1).head(20)"
   ]
  },
  {
   "cell_type": "markdown",
   "metadata": {},
   "source": [
    "Com a `Series` é possível usar a **indexação básica** para filtrar os dados:"
   ]
  },
  {
   "cell_type": "code",
   "execution_count": null,
   "metadata": {},
   "outputs": [],
   "source": [
    "df[df[\"Pclass\"] == 1].head()"
   ]
  },
  {
   "cell_type": "markdown",
   "metadata": {},
   "source": [
    "Também é possível usar operadores lógicos e criar filtros mais complexos. Para selecionarmos os passageiros do sexo feminino e que embarcaram em *Cherbourg*, podemos fazer o seguinte:\n",
    "\n",
    "* Primeiro criamos um filtro para o sexo feminino"
   ]
  },
  {
   "cell_type": "code",
   "execution_count": null,
   "metadata": {},
   "outputs": [],
   "source": [
    "filtro_sexo_f = df[\"Sex\"] == \"female\"\n",
    "filtro_sexo_f.head(10)"
   ]
  },
  {
   "cell_type": "markdown",
   "metadata": {},
   "source": [
    "* Criamos outro filtro para os passageiros que embarcaram em _Cherbourg_"
   ]
  },
  {
   "cell_type": "code",
   "execution_count": null,
   "metadata": {},
   "outputs": [],
   "source": [
    "filtro_embarque_c = df[\"Embarked\"] == \"C\"\n",
    "filtro_embarque_c.head(10)"
   ]
  },
  {
   "cell_type": "markdown",
   "metadata": {},
   "source": [
    "* Usamos o operador _and_ (`&`) para criar um terceiro filtro de ambas as condições"
   ]
  },
  {
   "cell_type": "code",
   "execution_count": null,
   "metadata": {},
   "outputs": [],
   "source": [
    "filtro_sexo_f_e_embarque_c = filtro_sexo_f & filtro_embarque_c\n",
    "filtro_sexo_f_e_embarque_c.head(10)"
   ]
  },
  {
   "cell_type": "code",
   "execution_count": null,
   "metadata": {},
   "outputs": [],
   "source": [
    "df[filtro_sexo_f_e_embarque_c].head()"
   ]
  },
  {
   "cell_type": "markdown",
   "metadata": {},
   "source": [
    "---\n",
    "## Exercícios\n",
    "### E2.2.1 \n",
    "Selecione apenas os passageiros com mais de 50 anos. Use o método `head` para mostrar somente o começo do `DataFrame`:"
   ]
  },
  {
   "cell_type": "code",
   "execution_count": null,
   "metadata": {},
   "outputs": [],
   "source": []
  },
  {
   "cell_type": "markdown",
   "metadata": {},
   "source": [
    "### E2.2.2 \n",
    "Selecione os passageiros que pagaram uma tarifa menor que £10 e que sobreviveram. Lembre-se do método `head`."
   ]
  },
  {
   "cell_type": "code",
   "execution_count": null,
   "metadata": {},
   "outputs": [],
   "source": []
  },
  {
   "cell_type": "markdown",
   "metadata": {},
   "source": [
    "## 2.3. Atribuição de valores\n",
    "Para atribuir um valor à uma célula é preciso usar o método `loc`:"
   ]
  },
  {
   "cell_type": "code",
   "execution_count": null,
   "metadata": {},
   "outputs": [],
   "source": [
    "df_panda"
   ]
  },
  {
   "cell_type": "code",
   "execution_count": null,
   "metadata": {},
   "outputs": [],
   "source": [
    "df_panda.loc[2, \"grama\"] = -3\n",
    "df_panda"
   ]
  },
  {
   "cell_type": "markdown",
   "metadata": {},
   "source": [
    "Para atribuir valores a uma coluna, basta usar a indexação direta:"
   ]
  },
  {
   "cell_type": "code",
   "execution_count": null,
   "metadata": {},
   "outputs": [],
   "source": [
    "df_panda[\"floresta\"] = \"densa\"\n",
    "df_panda"
   ]
  },
  {
   "cell_type": "markdown",
   "metadata": {},
   "source": [
    "A atribuição por coluna também pode receber uma série:"
   ]
  },
  {
   "cell_type": "code",
   "execution_count": null,
   "metadata": {},
   "outputs": [],
   "source": [
    "df_panda[\"bamboo\"] >= 20"
   ]
  },
  {
   "cell_type": "code",
   "execution_count": null,
   "metadata": {},
   "outputs": [],
   "source": [
    "df_panda[\"muito bamboo\"] = df_panda[\"bamboo\"] >= 20\n",
    "df_panda"
   ]
  },
  {
   "cell_type": "markdown",
   "metadata": {},
   "source": [
    "Por último, para adicionar linhas ao `DataFrame`, basta usar o método `append`:"
   ]
  },
  {
   "cell_type": "code",
   "execution_count": null,
   "metadata": {},
   "outputs": [],
   "source": [
    "df_panda = df_panda.append({\n",
    "    \"bamboo\": 30,\n",
    "    \"taquara\": 35,\n",
    "    \"muito bamboo\": True\n",
    "}, ignore_index=True)\n",
    "df_panda"
   ]
  },
  {
   "cell_type": "markdown",
   "metadata": {},
   "source": [
    "---\n",
    "## Exercícios\n",
    "\n",
    "### E2.3.1\n",
    "Preencha a célula da linha `3` e coluna `grama` com o valor `-4` em `df_panda`:"
   ]
  },
  {
   "cell_type": "code",
   "execution_count": null,
   "metadata": {},
   "outputs": [],
   "source": [
    "\n",
    "# A linha abaixo serve somente para mostrar o dataframe \n",
    "df_panda"
   ]
  },
  {
   "cell_type": "markdown",
   "metadata": {},
   "source": [
    "### E2.3.2\n",
    "Adicione a seguinte linha ao `DataFrame` `df_panda`: \n",
    "```python\n",
    "{\n",
    "    \"bamboo\":40, \n",
    "    \"taquara\": 45, \n",
    "    \"grama\": -5, \n",
    "    \"floresta\": \"rala\", \n",
    "    \"muito bamboo\": True\n",
    "}```"
   ]
  },
  {
   "cell_type": "code",
   "execution_count": null,
   "metadata": {},
   "outputs": [],
   "source": [
    "\n",
    "# A linha abaixo serve somente para mostrar o dataframe \n",
    "df_panda"
   ]
  },
  {
   "cell_type": "markdown",
   "metadata": {},
   "source": [
    "### E2.3.3\n",
    "Adicione uma coluna ao `DataFrame` `df_panda` chamada `kung fu` com o valor `True`"
   ]
  },
  {
   "cell_type": "code",
   "execution_count": null,
   "metadata": {},
   "outputs": [],
   "source": [
    "\n",
    "# A linha abaixo serve somente para mostrar o dataframe \n",
    "df_panda"
   ]
  },
  {
   "cell_type": "markdown",
   "metadata": {},
   "source": [
    "## 2.4. Dados faltantes\n",
    "Não há garantias de que as tabelas com as quais trabalhamos estejam completas. Decidir o que fazer com os dados faltantes é algo que deve ser estudado caso a caso. \n",
    "O método `isnull` retorna um `DataFrame` booleano no qual os valores indicam a falta de dados."
   ]
  },
  {
   "cell_type": "code",
   "execution_count": null,
   "metadata": {},
   "outputs": [],
   "source": [
    "df.isnull().head()"
   ]
  },
  {
   "cell_type": "markdown",
   "metadata": {},
   "source": [
    "Como muitos métodos dos `DataFrame`s retornam outro `DataFrame`, podemos encadenar métodos. Podemos, por exemplo, verificar quais linhas possuem algum dado faltante, encadenando o método `any`, que verifica se **algum** elemento é **verdadeiro**."
   ]
  },
  {
   "cell_type": "code",
   "execution_count": null,
   "metadata": {},
   "outputs": [],
   "source": [
    "df.isnull().any(axis=1).head(20)"
   ]
  },
  {
   "cell_type": "code",
   "execution_count": null,
   "metadata": {},
   "outputs": [],
   "source": [
    "null_cabin = df[\"Cabin\"].isnull().sum()\n",
    "\"{0} dados faltantes na coluna 'Cabin' ({1:.3}% do total)\".format(null_cabin, 100*null_cabin/len(df))"
   ]
  },
  {
   "cell_type": "markdown",
   "metadata": {},
   "source": [
    "> O argumento `axis=1` serve para indicar que queremos comparar os elementos em uma linha. Por padrão,o método usa `axis=0`, ou seja, compara os valores em uma coluna.\n",
    "\n",
    "> #### O método `all` verifica se **todos** os elementos são **verdadeiros**."
   ]
  },
  {
   "cell_type": "markdown",
   "metadata": {},
   "source": [
    "### 2.4.1. Eliminando colunas\n",
    "Uma opção para lidar com colunas contendo poucos dados é apenas eliminá-las com o método `drop`. Os métodos de um `DataFrame` retornam uma cópia dele, portanto, podemos substituir o `DataFrame` antigo (`df`) pela cópia após a aplicação do método usando uma atribuição:"
   ]
  },
  {
   "cell_type": "code",
   "execution_count": null,
   "metadata": {},
   "outputs": [],
   "source": [
    "df = df.drop(columns=\"Cabin\")\n",
    "df.head()"
   ]
  },
  {
   "cell_type": "markdown",
   "metadata": {},
   "source": [
    "### 2.4.2. Eliminando linhas\n",
    "Outra opção é remover linhas. Dessa vez é interessante que existam poucas linhas com dados faltantes de determinada coluna."
   ]
  },
  {
   "cell_type": "code",
   "execution_count": null,
   "metadata": {},
   "outputs": [],
   "source": [
    "df.isnull().head(6)"
   ]
  },
  {
   "cell_type": "markdown",
   "metadata": {},
   "source": [
    "Aproveitamos aqui para introduzir outra computação. O método `sum` soma os os valores em uma coluna (`axis=0` por padrão). Somando os valores `True`, equivalentes a `1`, oposto de `False` $\\equiv$ `0`, temos a contagem das linhas vazias:"
   ]
  },
  {
   "cell_type": "code",
   "execution_count": null,
   "metadata": {},
   "outputs": [],
   "source": [
    "df.isnull().sum()"
   ]
  },
  {
   "cell_type": "markdown",
   "metadata": {},
   "source": [
    "Como a coluna `Embarked` possui apenas 2 linhas vazias, podemos descartá-la sem perder muitos dados."
   ]
  },
  {
   "cell_type": "code",
   "execution_count": null,
   "metadata": {},
   "outputs": [],
   "source": [
    "df[df[\"Embarked\"].isnull()]"
   ]
  },
  {
   "cell_type": "code",
   "execution_count": null,
   "metadata": {},
   "outputs": [],
   "source": [
    "df.loc[59:63]"
   ]
  },
  {
   "cell_type": "markdown",
   "metadata": {},
   "source": [
    "Para descartar esses dados podemos usar o método `drop` passando `index` como argumento:"
   ]
  },
  {
   "cell_type": "code",
   "execution_count": null,
   "metadata": {},
   "outputs": [],
   "source": [
    "df.drop(index=[61, 829]).loc[59:63]"
   ]
  },
  {
   "cell_type": "markdown",
   "metadata": {},
   "source": [
    "Remover `index` (índices) deixa o `DataFrame` com lacunas em seus índices. Caso o índice não seja relevante para o problema, é possível recriá-lo com o método `reset_index`:"
   ]
  },
  {
   "cell_type": "code",
   "execution_count": null,
   "metadata": {},
   "outputs": [],
   "source": [
    "df.drop(index=[61, 829]).reset_index(drop=True).loc[59:63]"
   ]
  },
  {
   "cell_type": "markdown",
   "metadata": {},
   "source": [
    "As vezes é preferível filtrar o `DataFrame` ao invés de usar o método `drop`. Podemos usar o método `notnull` ou inverter o método `isnull` com o operador `~` (not):"
   ]
  },
  {
   "cell_type": "code",
   "execution_count": null,
   "metadata": {},
   "outputs": [],
   "source": [
    "df[\"Embarked\"].notnull()[59:63]"
   ]
  },
  {
   "cell_type": "code",
   "execution_count": null,
   "metadata": {},
   "outputs": [],
   "source": [
    "~df[\"Embarked\"].isnull()[59:63]"
   ]
  },
  {
   "cell_type": "markdown",
   "metadata": {},
   "source": [
    "Comparando as duas formas de determinar itens não nulos, verificamos que ambas são equivalentes:"
   ]
  },
  {
   "cell_type": "code",
   "execution_count": null,
   "metadata": {},
   "outputs": [],
   "source": [
    "(~df[\"Embarked\"].isnull() == df[\"Embarked\"].notnull()).all()"
   ]
  },
  {
   "cell_type": "code",
   "execution_count": null,
   "metadata": {},
   "outputs": [],
   "source": [
    "df = df[df[\"Embarked\"].notnull()].reset_index(drop=True)\n",
    "df.loc[59:63]"
   ]
  },
  {
   "cell_type": "markdown",
   "metadata": {},
   "source": [
    "### 2.4.3. Preenchendo valores vazios (Imputação de dados)\n",
    "Até agora lidamos com dados faltantes apenas eliminando tais elementos. Entretanto, a coluna `Age` (Idade) possui cerca de $1/5$ de seus valores faltantes. Seria um grande desperdício deletar essa coluna ou as linhas em que essa coluna está vazia."
   ]
  },
  {
   "cell_type": "code",
   "execution_count": null,
   "metadata": {},
   "outputs": [],
   "source": [
    "\"A coluna 'Age' tem {:.2f}% de dados faltantes\".format(df[\"Age\"].isnull().sum()/len(df)*100)"
   ]
  },
  {
   "cell_type": "markdown",
   "metadata": {},
   "source": [
    "Podemos, então, utilizar outra técnica, a *imputação de dados*. Com ela, criamos valores para os dados faltantes. Existem métodos elegantes para criar esses dados; neste notebook, vamos usar os mais simples: `média`, `mediana` e `moda`. Essas três operações são estatísticas que podemos calcular facilmente com o `DataFrame`:"
   ]
  },
  {
   "cell_type": "code",
   "execution_count": null,
   "metadata": {},
   "outputs": [],
   "source": [
    "ax = df[\"Age\"].hist(bins=20, figsize=(8, 6))\n",
    "ax.set_title(\"Distribuição das idades dos passageiros\")\n",
    "ax.set_xlabel(\"Idade\")\n",
    "ax.set_ylabel(\"Frequência\")"
   ]
  },
  {
   "cell_type": "markdown",
   "metadata": {},
   "source": [
    "A _média_ corresponde à soma dos valores dividida pela quantidade de elementos:\n",
    "\n",
    "ex: A média de **28, 29, 29, 30, 31, 31** é: $(28+29+29+30+31+31)/6 = 29.66...$"
   ]
  },
  {
   "cell_type": "code",
   "execution_count": null,
   "metadata": {},
   "outputs": [],
   "source": [
    "df[\"Age\"].mean()"
   ]
  },
  {
   "cell_type": "markdown",
   "metadata": {},
   "source": [
    "A _mediana_ é o elemento central numa lista ordenada dos valores\n",
    "\n",
    "ex: **1, 1, ... 27, 28, <span style=\"color: red\">28</span>, 28, 29, ... 80, 81**"
   ]
  },
  {
   "cell_type": "code",
   "execution_count": null,
   "metadata": {},
   "outputs": [],
   "source": [
    "df[\"Age\"].median()"
   ]
  },
  {
   "cell_type": "markdown",
   "metadata": {},
   "source": [
    "A _moda_ representa o valor que mais se repete dentre os elementos.\n",
    "\n",
    "ex: **20, 21, 22, <span style=\"color: red\">24, 24, 24,</span> 27, 28**. O número **24** é que mais se repete."
   ]
  },
  {
   "cell_type": "code",
   "execution_count": null,
   "metadata": {},
   "outputs": [],
   "source": [
    "df[\"Age\"].mode()[0]"
   ]
  },
  {
   "cell_type": "markdown",
   "metadata": {},
   "source": [
    "Usando o método `fillna`, podemos preencher os valores faltantes da coluna `Age`. Vamos preencher as linhas faltantes com o valor da `mediana`."
   ]
  },
  {
   "cell_type": "code",
   "execution_count": null,
   "metadata": {},
   "outputs": [],
   "source": [
    "df[\"Age\"] = df[\"Age\"].fillna(df[\"Age\"].median())\n",
    "ax = df[\"Age\"].hist(bins=20, figsize=(8, 6))\n",
    "ax.set_title(\"Distribuição das idades dos passageiros\")\n",
    "ax.set_xlabel(\"Idade\")\n",
    "ax.set_ylabel(\"Frequência\")"
   ]
  },
  {
   "cell_type": "markdown",
   "metadata": {},
   "source": [
    "Vemos que a distribuição das idades fica bastante alterada, mas pelo menos temos uma tabela com todos os valores preenchidos."
   ]
  },
  {
   "cell_type": "code",
   "execution_count": null,
   "metadata": {},
   "outputs": [],
   "source": [
    "df.info()"
   ]
  },
  {
   "cell_type": "markdown",
   "metadata": {},
   "source": [
    "---\n",
    "## Exercícios\n",
    "\n",
    "# SE PREPAREM!\n",
    "\n",
    "### E2.4.1\n",
    "Qual é a média do valor da passagem paga pelos passageiros da terceira classe? E da primeira classe?"
   ]
  },
  {
   "cell_type": "code",
   "execution_count": null,
   "metadata": {},
   "outputs": [],
   "source": []
  },
  {
   "cell_type": "code",
   "execution_count": null,
   "metadata": {},
   "outputs": [],
   "source": []
  },
  {
   "cell_type": "markdown",
   "metadata": {},
   "source": [
    "### E2.4.2\n",
    "Quantos passageiros que estão no `DataFrame` `df` sobreviveram ao naufrágio?"
   ]
  },
  {
   "cell_type": "code",
   "execution_count": null,
   "metadata": {},
   "outputs": [],
   "source": []
  },
  {
   "cell_type": "markdown",
   "metadata": {},
   "source": [
    "### E2.4.3\n",
    "Quais são as taxas de sobrevivência dos passageiros de cada uma das três classes?"
   ]
  },
  {
   "cell_type": "code",
   "execution_count": null,
   "metadata": {},
   "outputs": [],
   "source": []
  },
  {
   "cell_type": "code",
   "execution_count": null,
   "metadata": {},
   "outputs": [],
   "source": []
  },
  {
   "cell_type": "code",
   "execution_count": null,
   "metadata": {},
   "outputs": [],
   "source": []
  },
  {
   "cell_type": "markdown",
   "metadata": {},
   "source": [
    "### E2.4.4\n",
    "Qual é a taxa de sobrevivência dos passageiros de até 16 anos? E com 16 ou mais?"
   ]
  },
  {
   "cell_type": "code",
   "execution_count": null,
   "metadata": {},
   "outputs": [],
   "source": []
  },
  {
   "cell_type": "code",
   "execution_count": null,
   "metadata": {},
   "outputs": [],
   "source": []
  },
  {
   "cell_type": "markdown",
   "metadata": {},
   "source": [
    "### E2.4.5\n",
    "Qual é a taxa de sobrevivência dos passageiros do sexo feminino? E do sexo masculino?"
   ]
  },
  {
   "cell_type": "code",
   "execution_count": null,
   "metadata": {},
   "outputs": [],
   "source": []
  },
  {
   "cell_type": "code",
   "execution_count": null,
   "metadata": {},
   "outputs": [],
   "source": []
  },
  {
   "cell_type": "markdown",
   "metadata": {},
   "source": [
    "---\n",
    "<span style=\"font-size: 2em\">Phew!</span> Já cobrimos muita coisa:\n",
    "* DataFrames\n",
    "* Series\n",
    "* Indexação e Seleção de Dados\n",
    "* Indexação Booleana\n",
    "* Atribuição de Valores\n",
    "* Métodos do DataFrame\n",
    "* Dados faltantes\n",
    "\n",
    "Também pudemos tirar algumas conclusões sobre os dados do naufrágio do **Titanic**:\n",
    "\n",
    "1. Passageiros da primeira classe têm uma taxa de sobrevivência maior:\n",
    "2. Passageiros com menos de 16 anos têm uma taxa de sobrevivência maior\n",
    "3. Passageiros do sexo feminino têm uma taxa de sobrevivência maior\n",
    "4. Quem morre é homem, adulto e pobre.\n",
    "\n",
    "Confira se seus cálculos dos últimos três exercícios estão corretos abaixo:"
   ]
  },
  {
   "cell_type": "code",
   "execution_count": null,
   "metadata": {},
   "outputs": [],
   "source": [
    "filtros = [\n",
    "    (\"1ª Classe\", df[\"Pclass\"] == 1, PALETA[0]),\n",
    "    (\"2ª Classe\", df[\"Pclass\"] == 2, PALETA[0]),\n",
    "    (\"3ª Classe\", df[\"Pclass\"] == 3, PALETA[0]),\n",
    "    (\"Menor de 16 anos\", df[\"Age\"] < 16, PALETA[1]),\n",
    "    (\"Maior de 16 anos\", df[\"Age\"] >= 16, PALETA[1]),\n",
    "    (\"Sexo feminino\", df[\"Sex\"] == \"female\", PALETA[2]),\n",
    "    (\"Sexo masculino\", df[\"Sex\"] == \"male\", PALETA[2]),\n",
    "]\n",
    "eixo_x = []\n",
    "eixo_y = []\n",
    "paleta = []\n",
    "for categoria, filtro, cor in filtros:\n",
    "    eixo_x.append(categoria)\n",
    "    eixo_y.append(df[filtro][\"Survived\"].sum()/len(df[filtro]))\n",
    "    paleta.append(cor)\n",
    "\n",
    "fig, ax = plt.subplots(figsize=(15, 6))\n",
    "ax.set_ylim(0, 1)\n",
    "ax.set_title(\"Taxas de sobrevivência\")\n",
    "rects = ax.bar(\n",
    "    eixo_x, eixo_y,\n",
    "    color=paleta,\n",
    ")\n",
    "for rect in rects:\n",
    "    height = rect.get_height()\n",
    "    ax.annotate(\"{:.3f}\".format(float(height)),\n",
    "                xy=(rect.get_x() + rect.get_width() / 2, height),\n",
    "                ha=\"center\", va='bottom')"
   ]
  },
  {
   "cell_type": "markdown",
   "metadata": {},
   "source": [
    "# 3. Árvores à bordo!\n",
    "![Árvore](dados/df3f9f4bbba80a7547023b2823e6f0eb.jpg)\n",
    "\n",
    "\n",
    "Para modelar os dados usaremos **Árvores de decisão**, um método de aprendizado de máquina que se utiliza de um grafo em formato de árvore binária para tomar as decisões:\n",
    "\n",
    "![arvore engenharia](dados/tumblr_lui1cu0BzO1qe69yqo1_500.jpg)\n",
    "\n",
    "A árvore é composta por nós, que redirecionam para o próximo ramo da árvore, e por nós-folha, que são a decisão ou a classificação. No problema desse dataset temos apenas duas categorias para as folhas, ou o passageiro sobreviveu (**1**), ou o passageiro morreu (**0**).\n",
    "\n",
    "Vamos usar a biblioteca [scikit-learn](https://scikit-learn.org/stable/) que implementa o modelo numa interface muito simples.\n",
    "\n",
    "## 3.1. Preparação dos dados\n",
    "O modelo é capaz de lidar apenas com dados numéricos, então é preciso realizar um pré-processamento. \n",
    "* Dados categóricos com apenas duas classes podem ser convertidos para uma coluna binária\n",
    "* Dados categóricos com mais de duas classes precisam ser convertidos para colunas diferentes (one hot encoding)\n",
    "* Dados numéricos podem permanecer como estão\n",
    "\n",
    "No momento vamos nos ater somente às colunas numéricas:\n"
   ]
  },
  {
   "cell_type": "code",
   "execution_count": null,
   "metadata": {},
   "outputs": [],
   "source": [
    "X = df[[\"Age\", \"SibSp\", \"Parch\", \"Fare\"]]\n",
    "X.head()"
   ]
  },
  {
   "cell_type": "markdown",
   "metadata": {},
   "source": [
    "A saída da árvore de decisão já está num formato numérico, então não precisamos alterá-la."
   ]
  },
  {
   "cell_type": "code",
   "execution_count": null,
   "metadata": {},
   "outputs": [],
   "source": [
    "Y = df[\"Survived\"]\n",
    "Y.head(10)"
   ]
  },
  {
   "cell_type": "markdown",
   "metadata": {},
   "source": [
    "## 3.2. Avaliação do modelo\n",
    "A métrica que utilizaremos para avaliar o modelo é a **acurácia**. Esta métrica representa a taxa de acertos do modelo, por exemplo: Se pegarmos os 5 primeiros passageiros:"
   ]
  },
  {
   "cell_type": "code",
   "execution_count": null,
   "metadata": {},
   "outputs": [],
   "source": [
    "df.head()"
   ]
  },
  {
   "cell_type": "markdown",
   "metadata": {},
   "source": [
    "Este subconjunto dos dados contém 3 passageiros que sobreviveram ao desastre e 2 que morreram. \n",
    "\n",
    "Vamos criar um modelo simples, considerando que todos os passageiros sobreviveram. Como calculamos a acurácia para esse subconjunto?\n",
    "* Primeiro vamos criar um `DataFrame` contendo duas colunas, a coluna com os dados verdadeiros (coluna `Survived`) e outra com a predição do modelo:"
   ]
  },
  {
   "cell_type": "code",
   "execution_count": null,
   "metadata": {},
   "outputs": [],
   "source": [
    "df[\"predicao simples\"] = 1  # Consideramos que todos os passageiros sobreviveram\n",
    "df[[\"Survived\", \"predicao simples\"]].head()"
   ]
  },
  {
   "cell_type": "markdown",
   "metadata": {},
   "source": [
    "* Em seguida criamos uma terceira coluna que compara a coluna `Survived` à coluna `predicao simples`:"
   ]
  },
  {
   "cell_type": "code",
   "execution_count": null,
   "metadata": {},
   "outputs": [],
   "source": [
    "df[\"acertos predicao simples\"] = df[\"Survived\"] == df[\"predicao simples\"]\n",
    "df[[\"Survived\", \"predicao simples\", \"acertos predicao simples\"]].head()"
   ]
  },
  {
   "cell_type": "markdown",
   "metadata": {},
   "source": [
    "* Por último, determinamos a razão entre a quantidade de acertos e o tamanho do conjunto de dados. Para essas 5 amostras temos o seguinte:\n",
    "  * Acertos: 3\n",
    "  * Tamanho do conjunto de dados: 5\n",
    "  * Acurácia: 3/5 = 0.6 (60%)"
   ]
  },
  {
   "cell_type": "code",
   "execution_count": null,
   "metadata": {},
   "outputs": [],
   "source": [
    "acc = df[\"acertos predicao simples\"].head().sum()/len(df.head())\n",
    "\"Acurácia 5 linhas: {}%\".format(100*acc)"
   ]
  },
  {
   "cell_type": "markdown",
   "metadata": {},
   "source": [
    "O `sklearn` possui uma função que calcula a acurácia, precisamos apenas passar a coluna `verdade` e a coluna `predição`:"
   ]
  },
  {
   "cell_type": "code",
   "execution_count": null,
   "metadata": {},
   "outputs": [],
   "source": [
    "acc = metrics.accuracy_score(\n",
    "    df[\"Survived\"].head(), \n",
    "    df[\"predicao simples\"].head()\n",
    ")\n",
    "\"Acurácia 5 linhas: {}%\".format(100*acc)"
   ]
  },
  {
   "cell_type": "markdown",
   "metadata": {},
   "source": [
    "A acurácia para todo o conjunto de dados é:"
   ]
  },
  {
   "cell_type": "code",
   "execution_count": null,
   "metadata": {},
   "outputs": [],
   "source": [
    "acc_simples = metrics.accuracy_score(\n",
    "    df[\"Survived\"], \n",
    "    df[\"predicao simples\"]\n",
    ")\n",
    "\"Acurácia: {}%\".format(100*acc_simples)"
   ]
  },
  {
   "cell_type": "markdown",
   "metadata": {},
   "source": [
    "## 3.3.  Árvores de decisão\n",
    "Vamos jogar os dados na a árvore de decisão: \n",
    "1. Primeiro instanciamos a classe `DecisionTreeClassifier`\n",
    "2. Invocamos o método `fit` para criar a árvore\n",
    "3. Para realizar predições sobre a árvore, basta usar o método `predict`"
   ]
  },
  {
   "cell_type": "code",
   "execution_count": null,
   "metadata": {},
   "outputs": [],
   "source": [
    "## Preparação dos dados\n",
    "X1 = df[[\"Age\", \"SibSp\", \"Parch\", \"Fare\"]]\n",
    "Y1 = df[\"Survived\"]\n",
    "\n",
    "# 1. Instanciando o modelo\n",
    "modelo_arvore1 = tree.DecisionTreeClassifier(max_depth=4, min_samples_leaf=5)\n",
    "\n",
    "# 2. Treinando o modelo\n",
    "modelo_arvore1.fit(X1, Y1)\n",
    "\n",
    "# 3. Gerando as predições\n",
    "df[\"predicao arvore 1\"] = modelo_arvore1.predict(X1)\n",
    "df[[\"Survived\", \"predicao arvore 1\"]].head(10)"
   ]
  },
  {
   "cell_type": "code",
   "execution_count": null,
   "metadata": {},
   "outputs": [],
   "source": [
    "acc_arvore1 = metrics.accuracy_score(\n",
    "    df[\"Survived\"], \n",
    "    df[\"predicao arvore 1\"]\n",
    ")\n",
    "\"Acurácia: {}%\".format(100*acc_arvore1)"
   ]
  },
  {
   "cell_type": "markdown",
   "metadata": {},
   "source": [
    "Conseguimos modelar corretamente 71.1% dos dados! Muito melhor que os 38.2% do _modelo simples_.\n",
    "\n",
    "O _scikit-learn_ fornece uma interface simples para visualizar as árvores de decisão, com essa visualização podemos tirar algumas conclusões:"
   ]
  },
  {
   "cell_type": "code",
   "execution_count": null,
   "metadata": {},
   "outputs": [],
   "source": [
    "def plot_tree(model, columns, classes):\n",
    "    dot_data = tree.export_graphviz(\n",
    "        model,\n",
    "        out_file=None,\n",
    "        feature_names=columns,\n",
    "        class_names=classes,\n",
    "        filled=True, rounded=True\n",
    "    )\n",
    "    graph = graphviz.Source(dot_data)\n",
    "    return graph\n",
    "classes = [\"morreu\", \"sobreviveu\"]\n",
    "plot_tree(modelo_arvore1, X1.columns, classes)"
   ]
  },
  {
   "cell_type": "markdown",
   "metadata": {},
   "source": [
    "Os nós mais coloridos representam os casos dos quais o modelo tem mais certeza na predição. Podemos concluir:\n",
    "* Os passageiros que pagaram barato nas tarifas (`Fare` $<=$ 10.481) morreram com 80% $(272\\div(272+67))$ de probabilidade, especialmente os mais velhos (`Age` $>$ _32.5_ ), com 94% $(58\\div(58+4))$ de probabilidade.\n",
    "* Passageiros que pagaram caro nas tarifas (`Fare` $>$ _74.375_ ) tiveram mais chances de sobreviver (24.2% de mortalidade).\n",
    "\n",
    "---\n",
    "## Exercícios\n",
    "### E3.1.\n",
    "Vamos criar outro modelo, a predição será sorteada aleatóriamente. Primeiro precisamos gerar uma lista com _889_ números aleatórios. Use o método `random.random` para gerar números aleatórios:\n",
    "\n",
    "Dica: método [`append`](https://docs.python.org/3.7/tutorial/datastructures.html) para `lista`"
   ]
  },
  {
   "cell_type": "code",
   "execution_count": null,
   "metadata": {},
   "outputs": [],
   "source": [
    "import random\n",
    "random.seed(2019)\n",
    "\n",
    "lista_randomica = []\n",
    "for i in range(889):\n",
    "    # Complete a linha abaixo\n",
    "    "
   ]
  },
  {
   "cell_type": "markdown",
   "metadata": {},
   "source": [
    "### E3.2.\n",
    "Crie uma `Series` da lista randômica chamada `sr_randomica`:"
   ]
  },
  {
   "cell_type": "code",
   "execution_count": null,
   "metadata": {},
   "outputs": [],
   "source": []
  },
  {
   "cell_type": "markdown",
   "metadata": {},
   "source": [
    "### E3.3.\n",
    "Converta a `Series` `sr_randomica` uma série _boleana_ indicando quais numeros são maiores que 0.5. Nomeie essa `Series` como `pred_randomica`. Essa é a série das predições do modelo:"
   ]
  },
  {
   "cell_type": "code",
   "execution_count": null,
   "metadata": {},
   "outputs": [],
   "source": []
  },
  {
   "cell_type": "markdown",
   "metadata": {},
   "source": [
    "### E3.4.\n",
    "Converta a `Series` `pred_randomica` para o tipo inteiro usando o método [`astype`](https://pandas.pydata.org/pandas-docs/stable/reference/api/pandas.Series.astype.html) passando [`int`](https://docs.python.org/3/library/functions.html#int) como parâmetro:"
   ]
  },
  {
   "cell_type": "code",
   "execution_count": null,
   "metadata": {},
   "outputs": [],
   "source": []
  },
  {
   "cell_type": "markdown",
   "metadata": {},
   "source": [
    "### E3.5.\n",
    "Calcule a acurácia do modelo randômico e a armazene na variável `acc_randomica`:"
   ]
  },
  {
   "cell_type": "code",
   "execution_count": null,
   "metadata": {},
   "outputs": [],
   "source": [
    "acc_randomica = \n",
    "\n",
    "# A linha abaixo serve somente para mostrar o valor\n",
    "\"Acurácia: {}%\".format(100*acc_randomica)"
   ]
  },
  {
   "cell_type": "markdown",
   "metadata": {},
   "source": [
    "47.9% de acurácia com um modelo randômico!\n",
    "\n",
    "_Será que conseguimos melhorar ainda mais?_\n",
    "# 4. Vamos para a casa de máquinas!\n",
    "![casa de máquinas](dados/media_239607.jpg)\n",
    "<br/>\n",
    "Um jeito de tentar melhorar a acurácia é extraindo mais informações do conjunto de dados. Realizar operações em conjuntos de dados para extrair mais informações é conhecido como *Engenharia de Features*.\n",
    "\n",
    "Vamos iniciar investigando os nomes dos passageiros:"
   ]
  },
  {
   "cell_type": "code",
   "execution_count": null,
   "metadata": {},
   "outputs": [],
   "source": [
    "df[[\"Name\"]].head(10)"
   ]
  },
  {
   "cell_type": "markdown",
   "metadata": {},
   "source": [
    "É possível extrair alguma informação relevante do nome dos passageiros?\n",
    "\n",
    ".\n",
    "\n",
    ".\n",
    "\n",
    ".\n",
    "\n",
    ".\n",
    "\n",
    ".\n",
    "\n",
    ".\n",
    "\n",
    ".\n",
    "\n",
    ".\n",
    "\n",
    ".\n",
    "\n",
    ".\n",
    "\n",
    ".\n",
    "\n",
    ".\n",
    "\n",
    ".\n",
    "\n",
    ".\n",
    "\n",
    ".\n",
    "\n",
    ".\n",
    "# CLARO!\n",
    "\n",
    "## 4.1. Manipulação de Strings\n",
    "\n",
    "Podemos determinar a hierarquia <span style=\"font-size: 1.5em\">🤮</span> entre os passageiros analisando o prefixo (titulo) atrelado aos nomes. Primeiro vamos procurar pelos prefixos usando [Expressões Regulares](https://pt.wikipedia.org/wiki/Express%C3%A3o_regular), para tanto usamos um dos métodos de [manipulação de strings](https://pandas.pydata.org/pandas-docs/stable/reference/series.html#string-handling) do `pandas`, o método `extract`:"
   ]
  },
  {
   "cell_type": "code",
   "execution_count": null,
   "metadata": {},
   "outputs": [],
   "source": [
    "expressao_titulo = \" ([^. ]+\\.)\"\n",
    "df[\"Prefix\"] = df[\"Name\"].str.extract(expressao_titulo)\n",
    "df[[\"Prefix\", \"Name\"]].head()"
   ]
  },
  {
   "cell_type": "markdown",
   "metadata": {},
   "source": [
    "Podemos contar a quantidade de cada título com o método para `Series` `value_counts`:"
   ]
  },
  {
   "cell_type": "code",
   "execution_count": null,
   "metadata": {},
   "outputs": [],
   "source": [
    "df[\"Prefix\"].value_counts()"
   ]
  },
  {
   "cell_type": "code",
   "execution_count": null,
   "metadata": {},
   "outputs": [],
   "source": [
    "df[df[\"Name\"].str.contains(\"Jonkheer\\.\")]"
   ]
  },
  {
   "cell_type": "markdown",
   "metadata": {},
   "source": [
    "Jonkheer é o mais baixo título de nobreza Holandês que vem de _jonk_ (jovem, young) e _here_ (senhor, mestre).\n",
    "<img src=\"dados/a184e964efa3c63a88549d14cca0fd06.jpg\" width=600>\n",
    "<center><i>Jonkheer Reuchlin e sua esposa Agatha Maria Elink Schuurman</i></center>\n",
    "\n",
    "Mas o que podemos fazer com essas informações? Podemos criar uma nova coluna nos nossos `DataFrames` para indicar a titularidade de cada passageiro. Vamos categorizar os títulos em:\n",
    "1. Oficiais\n",
    "  * Capt.\n",
    "  * Col.\n",
    "  * Major.\n",
    "  * Dr.\n",
    "  * Rev. (Reverendo)\n",
    "2. Realeza\n",
    "  * Jonkheer.\n",
    "  * Don.\n",
    "  * Sir.\n",
    "  * Countess.\n",
    "  * Lady.\n",
    "3. Mr.\n",
    "4. Mrs.\n",
    "  * Mrs. (Mistress, geralmente a esposa que trocou o sobrenome)\n",
    "  * Ms. (Miss, não indica o estado civil)\n",
    "  * Mme. (Madame)\n",
    "  * Dona (Somente no conjunto de dados de teste)\n",
    "5. Miss./Mlle. (Miss/Mademoiselle, mulheres solteiras)\n",
    "6. Master (Homens jovens)\n",
    "\n",
    "Substituindo os títulos antigos, temos a seguinte contagem:"
   ]
  },
  {
   "cell_type": "code",
   "execution_count": null,
   "metadata": {},
   "outputs": [],
   "source": [
    "titulos = {\n",
    "    \"Capt.\": \"Officer\",\n",
    "    \"Col.\": \"Officer\",\n",
    "    \"Major.\": \"Officer\",\n",
    "    \"Dr.\": \"Officer\",\n",
    "    \"Rev.\": \"Officer\",\n",
    "    \"Jonkheer.\": \"Royalty\",\n",
    "    \"Don.\": \"Royalty\",\n",
    "    \"Sir.\": \"Royalty\",\n",
    "    \"Countess.\": \"Royalty\",\n",
    "    \"Lady.\": \"Royalty\",\n",
    "    \"Mr.\": \"Mr\",\n",
    "    \"Mrs.\": \"Mrs\",\n",
    "    \"Ms.\": \"Mrs\",\n",
    "    \"Mme.\": \"Mrs\",\n",
    "    \"Miss.\": \"Miss\", \n",
    "    \"Mlle.\": \"Miss\",\n",
    "    \"Master.\": \"Master\",\n",
    "    \"Dona.\": \"Mrs\",\n",
    "}\n",
    "def substituir_titulos(linha):\n",
    "    return titulos[linha]\n",
    "    \n",
    "df[\"Title\"] = df[\"Prefix\"].apply(substituir_titulos)\n",
    "df[\"Title\"].value_counts()"
   ]
  },
  {
   "cell_type": "markdown",
   "metadata": {},
   "source": [
    "---\n",
    "## Exercícios\n",
    "\n",
    "### E4.1.1.\n",
    "Encontre um passageiro que contenha _Jack_ em seu nome, e outro que contenha *Rose*:"
   ]
  },
  {
   "cell_type": "code",
   "execution_count": null,
   "metadata": {},
   "outputs": [],
   "source": [
    "    "
   ]
  },
  {
   "cell_type": "code",
   "execution_count": null,
   "metadata": {},
   "outputs": [],
   "source": []
  },
  {
   "cell_type": "markdown",
   "metadata": {},
   "source": [
    "### E4.1.2.\n",
    "Encontre os passageiros dos quais o `Ticket` contêm a string *CA*. Atribua o novo `DataFrame` à variável `df_ticket_ca`:"
   ]
  },
  {
   "cell_type": "code",
   "execution_count": null,
   "metadata": {},
   "outputs": [],
   "source": [
    "\n",
    "# A linha abaixo serve somente para mostrar o dataframe\n",
    "df_ticket_ca.head()"
   ]
  },
  {
   "cell_type": "markdown",
   "metadata": {},
   "source": [
    "### E4.1.3.\n",
    "Crie uma `Series` da coluna `Name` de `df_ticket_ca` e a atribua à variável `sr_name_ca`:"
   ]
  },
  {
   "cell_type": "code",
   "execution_count": null,
   "metadata": {},
   "outputs": [],
   "source": [
    "\n",
    "# A linha abaixo serve somente para mostrar o dataframe\n",
    "sr_name_ca.head()"
   ]
  },
  {
   "cell_type": "markdown",
   "metadata": {},
   "source": [
    "### E4.1.4.\n",
    "Selecione apenas o sobrenome de `sr_name_ca` e o atribua à variável `sr_surname_ca`:\n",
    "  \n",
    "    Dica: regex: (^[^,]+)\n",
    "        ()   : Grupo de seleção\n",
    "        ^    : Início da linha\n",
    "        [^,] : Caracteres que não são vírgula\n",
    "        +    : 1 ou mais caracteres\n",
    "\n",
    "    Não esqueca de selecionar o match 0."
   ]
  },
  {
   "cell_type": "code",
   "execution_count": null,
   "metadata": {},
   "outputs": [],
   "source": [
    "\n",
    "# A linha abaixo serve somente para mostrar o dataframe\n",
    "sr_surname_ca.head()"
   ]
  },
  {
   "cell_type": "markdown",
   "metadata": {},
   "source": [
    "### E4.1.5.\n",
    "Conte os sobrenomes em `sr_surname_ca`:"
   ]
  },
  {
   "cell_type": "code",
   "execution_count": null,
   "metadata": {},
   "outputs": [],
   "source": []
  },
  {
   "cell_type": "markdown",
   "metadata": {},
   "source": [
    "## 4.2. Contando Tickets\n",
    "Muitos tickets têm o mesmo número, então podemos contá-los para incluir uma característica no nosso dataset.\n",
    "![Ticket](dados/Titanic-auction-brochure-ticket-944182.jpg)\n",
    "\n",
    "Podemos usar o método `value_counts` para contar os tickets, mas também podemos usar um método mais poderoso, o `groupby`.\n",
    "    \n",
    "Este método é muito semelhante ao `GROUP BY` do `SQL` e podemos fazer várias agregações com ele. No nosso exemplo, vamos agrupar os dados pela coluna `Ticket` e contar a quantidade de nomes (coluna `Name`)."
   ]
  },
  {
   "cell_type": "code",
   "execution_count": null,
   "metadata": {},
   "outputs": [],
   "source": [
    "df_ticket = df.groupby([\"Ticket\"])[[\"Name\"]].count()\n",
    "df_ticket.sort_values(\"Name\", ascending=False).head(10)"
   ]
  },
  {
   "cell_type": "markdown",
   "metadata": {},
   "source": [
    "Podemos renomear a coluna de um `DataFrame` com o método `rename`:"
   ]
  },
  {
   "cell_type": "code",
   "execution_count": null,
   "metadata": {},
   "outputs": [],
   "source": [
    "df_ticket = df_ticket.rename(columns={\"Name\": \"TicketCount\"})\n",
    "df_ticket.head()"
   ]
  },
  {
   "cell_type": "markdown",
   "metadata": {},
   "source": [
    "Para inserir as informações da contagem no `DataFrame` `df` podemos usar o método `merge` (`JOIN` no `SQL`). Vamos unir o dataframe `df` na coluna `Ticket` com o `df_ticket` em seu índice:"
   ]
  },
  {
   "cell_type": "code",
   "execution_count": null,
   "metadata": {},
   "outputs": [],
   "source": [
    "df = pd.merge(df, df_ticket, left_on=\"Ticket\", right_index=True).sort_index()\n",
    "df.head()"
   ]
  },
  {
   "cell_type": "markdown",
   "metadata": {},
   "source": [
    "---\n",
    "## Exercícios\n",
    "### E4.2.1.\n",
    "Conte os _nomes_ (`Name`) dos passageiros, agrupando-os por _sexo_ (`Sex`)e _idade_ (`Age`)."
   ]
  },
  {
   "cell_type": "code",
   "execution_count": null,
   "metadata": {},
   "outputs": [],
   "source": []
  },
  {
   "cell_type": "markdown",
   "metadata": {},
   "source": [
    "### E4.2.2.\n",
    "Crie uma coluna _booleana_ no `DataFrame` `df` chamada `Child` na qual o valor é `True` quando o passageiro tem menos de 16 anos."
   ]
  },
  {
   "cell_type": "code",
   "execution_count": null,
   "metadata": {},
   "outputs": [],
   "source": [
    "\n",
    "# A linha abaixo serve somente para mostrar o dataframe\n",
    "df[df[\"Child\"]].head()"
   ]
  },
  {
   "cell_type": "markdown",
   "metadata": {},
   "source": [
    "### E4.2.3.\n",
    "Conte os nomes (`Name`) dos passageiros agrupando os dados pelas colunas `Sex`, `Pclass`, e `Child`. Armazene esses dados no dataframe `df_populacoes_count`."
   ]
  },
  {
   "cell_type": "code",
   "execution_count": null,
   "metadata": {},
   "outputs": [],
   "source": [
    "\n",
    "# A linha abaixo serve somente para mostrar o dataframe\n",
    "df_populacoes_count"
   ]
  },
  {
   "cell_type": "markdown",
   "metadata": {},
   "source": [
    "### E4.2.4.\n",
    "Some a coluna `Survived` dos passageiros, agrupando os dados pelas colunas `Sex`, `Pclass`, e `Child`. Armazene esses dados no dataframe `df_populacoes_survived`.\n",
    "\n",
    "Dica: Para somar, troque o `count` por `sum`."
   ]
  },
  {
   "cell_type": "code",
   "execution_count": null,
   "metadata": {},
   "outputs": [],
   "source": [
    "\n",
    "# A linha abaixo serve somente para mostrar o dataframe\n",
    "df_populacoes_survived"
   ]
  },
  {
   "cell_type": "markdown",
   "metadata": {},
   "source": [
    "### E4.2.4.\n",
    "Divida a coluna `Survived` de `df_populacoes_survived` pela coluna `Name` de `df_populacoes_count`. Armazene esses dados em `df_populacoes_rate`:"
   ]
  },
  {
   "cell_type": "code",
   "execution_count": null,
   "metadata": {},
   "outputs": [],
   "source": [
    "df_populacoes_rate =\n",
    "\n",
    "# O código abaixo é para plotar, não altere.\n",
    "fig, ax = plt.subplots(1, 2, figsize=(15, 6))\n",
    "pd.DataFrame(df_populacoes_rate.loc[\"male\"]*100).plot.bar(figsize=(15, 8), rot=30, ax=ax[0], color=PALETA[0])\n",
    "pd.DataFrame(df_populacoes_rate.loc[\"female\"]*100).plot.bar(figsize=(15, 8), rot=30, ax=ax[1], color=PALETA[1])\n",
    "ax[0].set_title(\"Taxa de sobrevivência - Sexo masculino\")\n",
    "ax[1].set_title(\"Taxa de sobrevivência - Sexo feminino\")\n",
    "ax[0].set_ylabel(\"%\")\n",
    "ax[1].set_ylabel(\"%\")\n",
    "ax[0].legend().remove()\n",
    "ax[1].legend().remove()"
   ]
  },
  {
   "cell_type": "markdown",
   "metadata": {},
   "source": [
    "O agrupamento é uma ferramenta poderosa. Podemos resumir todos os passos que fizemos anteriormente em apenas uma linha:"
   ]
  },
  {
   "cell_type": "code",
   "execution_count": null,
   "metadata": {},
   "outputs": [],
   "source": [
    "df.groupby([\"Sex\", \"Pclass\", \"Child\"]).agg({\"Name\": \"count\", \"Survived\": [\"sum\", \"mean\"]})"
   ]
  },
  {
   "cell_type": "markdown",
   "metadata": {},
   "source": [
    "## 4.3. Operações em colunas\n",
    "O `pandas` permite fazer diversas operações numéricas de maneira muito simples e intuitiva:\n",
    "* `+` &nbsp;&nbsp;$\\rightarrow$ `__add__`\n",
    "* `-` &nbsp;&nbsp;$\\rightarrow$ `__sub__`\n",
    "* `*` &nbsp;&nbsp;$\\rightarrow$ `__mul__`\n",
    "* `/` &nbsp;&nbsp;$\\rightarrow$ `__div__`\n",
    "* `//` $\\rightarrow$ `__floordiv__`\n",
    "* `**` $\\rightarrow$ `__pow__`\n",
    "* `%` &nbsp;&nbsp;$\\rightarrow$ `__mod__`\n",
    "* `|` &nbsp;&nbsp;$\\rightarrow$ `__or__`\n",
    "* `&` &nbsp;&nbsp;$\\rightarrow$ `__and__`\n",
    "* `^` &nbsp;&nbsp;$\\rightarrow$ `__xor__`\n",
    " \n",
    "Podemos determinar a quantidade de parentes por passageiro, somando as características `SibSp` (Irmãos/Esposo(a)s) e `Parch` (Pais/Filhos) + 1, que é o próprio passageiro. Vamos armazenar essa informação numa nova coluna `FamilySize`:"
   ]
  },
  {
   "cell_type": "code",
   "execution_count": null,
   "metadata": {},
   "outputs": [],
   "source": [
    "df[\"FamilySize\"] = df[\"SibSp\"] + df[\"Parch\"] + 1\n",
    "df.head()"
   ]
  },
  {
   "cell_type": "markdown",
   "metadata": {},
   "source": [
    "---\n",
    "## Exercícios\n",
    "### E4.3.1.\n",
    "Vamos criar mais uma característica. Estimaremos o custo da tarifa pago por família. A estimativa é o valor da tarifa (`Fare`) multiplicada pelo tamanho da família (`FamilySize`). Armazene essa informação na coluna `FamilyFare`:"
   ]
  },
  {
   "cell_type": "code",
   "execution_count": null,
   "metadata": {},
   "outputs": [],
   "source": [
    "\n",
    "# A linha abaixo serve somente para mostrar o dataframe\n",
    "df[[\"FamilyFare\"]].head()"
   ]
  },
  {
   "cell_type": "markdown",
   "metadata": {},
   "source": [
    "### E4.3.2.\n",
    "Vamos criar uma característica para indicar as pessoas que estão viajando sem família. Crie uma coluna booleana chamada `NoRelatives` que é `True` quando o tamanho da família é 1 (`FamilySize`):"
   ]
  },
  {
   "cell_type": "code",
   "execution_count": null,
   "metadata": {},
   "outputs": [],
   "source": [
    "\n",
    "# A linha abaixo serve somente para mostrar o dataframe\n",
    "df[\"NoRelatives\"].head()"
   ]
  },
  {
   "cell_type": "markdown",
   "metadata": {},
   "source": [
    "Conseguimos extrair mais seis caracterísitcas dos dados. Será que conseguimos melhorar o modelo?\n",
    "\n",
    "# 5. Mais árvores\n",
    "![duas arvores](dados/two_trees_and_flock.jpg)\n",
    "\n",
    "Vamos montar mais uma árvore de decisão. Dessa vez utilizaremos as seguintes características:\n",
    "* Características binárias:\n",
    "  * `Sex`\n",
    "  * `NoRelatives`\n",
    "  * `Young`\n",
    "* Caracterísitcas categóricas:\n",
    "  * `PClass`\n",
    "  * `Embarked`\n",
    "  * `Title`\n",
    "* Características numéricas\n",
    "  * `Age`\n",
    "  * `SibSp`\n",
    "  * `Parch`\n",
    "  * `Fare`\n",
    "  * `TicketCount`\n",
    "  * `FamilySize`\n",
    "  * `FamilyFare`"
   ]
  },
  {
   "cell_type": "code",
   "execution_count": null,
   "metadata": {},
   "outputs": [],
   "source": [
    "colunas_binarias = [\"Sex\", \"NoRelatives\", \"Child\"]\n",
    "colunas_categoricas = [\"Pclass\", \"Embarked\", \"Title\"]\n",
    "colunas_numericas = [\"Age\", \"SibSp\", \"Parch\", \"Fare\", \"TicketCount\", \"FamilySize\", \"FamilyFare\"]\n",
    "\n",
    "def processar_dataframe(df, colunas_binarias, colunas_categoricas, colunas_numericas):\n",
    "    df_saida = pd.get_dummies(df[colunas_categoricas].astype(str))\n",
    "    for col in colunas_binarias:\n",
    "        if df[col].dtype == bool:\n",
    "            df_saida[col] = df[col]\n",
    "        else:\n",
    "            sr_bin = df[col]\n",
    "            prefixo = df[col][0]\n",
    "            df_saida[col+\"_\"+prefixo] = sr_bin == prefixo\n",
    "    df_saida = pd.concat([df_saida, df[colunas_numericas]], axis=1)\n",
    "    return df_saida\n",
    "\n",
    "\n",
    "X2 = processar_dataframe(df, colunas_binarias, colunas_categoricas, colunas_numericas)\n",
    "Y2 = df[\"Survived\"]\n",
    "X2.head()"
   ]
  },
  {
   "cell_type": "markdown",
   "metadata": {},
   "source": [
    "Notem que transformamos as colunas categóricas em colunas numéricas usando o _One hot encoding_ , ou seja, criamos uma coluna de característica para cada categoria.\n",
    "\n",
    "Modelando os dados na árvore de decisão temos a seguinte acurácia:"
   ]
  },
  {
   "cell_type": "code",
   "execution_count": null,
   "metadata": {},
   "outputs": [],
   "source": [
    "# 1. Instanciando o modelo\n",
    "modelo_arvore2 = tree.DecisionTreeClassifier(max_depth=4, min_samples_leaf=5)\n",
    "\n",
    "# 2. Treinando o modelo\n",
    "modelo_arvore2.fit(X2, Y2)\n",
    "\n",
    "# 3. Gerando as predições\n",
    "df[\"predicao arvore 2\"] = modelo_arvore2.predict(X2)\n",
    "\n",
    "acc_arvore2 = metrics.accuracy_score(\n",
    "    df[\"Survived\"], \n",
    "    df[\"predicao arvore 2\"]\n",
    ")\n",
    "\"Acurácia: {}%\".format(100*acc_arvore2)"
   ]
  },
  {
   "cell_type": "code",
   "execution_count": null,
   "metadata": {},
   "outputs": [],
   "source": [
    "def plot_acuracias(nomes_modelos, acuracias, paleta, titulo, rot=0):\n",
    "    fig, ax = plt.subplots(figsize=(15, 6))\n",
    "    ax.set_ylim(0, 100)\n",
    "    ax.set_title(titulo)\n",
    "    ax.set_ylabel(\"%\")\n",
    "    plt.xticks(rotation=rot)\n",
    "    \n",
    "    rects = ax.bar(\n",
    "        nomes_modelos,\n",
    "        acuracias,\n",
    "        color=paleta,\n",
    "    )\n",
    "    for rect in rects:\n",
    "        height = rect.get_height()\n",
    "        ax.annotate(\"{:.3f}\".format(float(height)),\n",
    "                    xy=(rect.get_x() + rect.get_width() / 2, height),\n",
    "                    ha=\"center\", va='bottom')\n",
    "plot_acuracias(\n",
    "    [\"Simples\", \"Randômico\", \"Árvore 1\", \"Árvore 2\"], \n",
    "    [100*acc_simples, 100*acc_randomica, 100*acc_arvore1, 100*acc_arvore2],\n",
    "    PALETA,\n",
    "    \"Acurácia Treino\"\n",
    ")"
   ]
  },
  {
   "cell_type": "code",
   "execution_count": null,
   "metadata": {},
   "outputs": [],
   "source": [
    "plot_tree(modelo_arvore2, X2.columns, classes)"
   ]
  },
  {
   "cell_type": "markdown",
   "metadata": {},
   "source": [
    "Algumas conclusões que podemos tomar com base nessa árvore:\n",
    "* Cerca de 15.6% dos passageiros do sexo masculino (`Title` $=$ *Mr*) sobreviveram. Esses resultados são similares aos encontrados no final do capítulo 2.\n",
    "* 94% Dos passageiros que não pertencem às categorias `Title` $=$ *Mr e Officer* têm uma família com *4* pessoas ou menos e `PClass` $\\neq$ *3* sobreviveram.\n",
    "* Entre os homens (`Title` $=$ *Mr*), os passageiros da primeira classe (`PClass` $\\neq$ *2* e `Fare` $>$ *26.775*) foram os que mais sobreviveram (taxa de 31.6%, o dobro da taxa para homens).\n",
    "\n",
    "---\n",
    "## Exercícios\n",
    "### E5.\n",
    "Altere as características selecionadas para a modelagem e tente interpretar as árvores de decisão"
   ]
  },
  {
   "cell_type": "code",
   "execution_count": null,
   "metadata": {
    "scrolled": false
   },
   "outputs": [],
   "source": [
    "## Altere as características de interesse ou até crie novas características.\n",
    "\n",
    "colunas_binarias_e5 = [\"Sex\", \"NoRelatives\", \"Child\"]\n",
    "colunas_categoricas_e5 = [\"Pclass\", \"Embarked\", \"Title\"]\n",
    "colunas_numericas_e5 = [\"Age\", \"SibSp\", \"Parch\", \"Fare\", \"FamilySize\"]\n",
    "colunas_descartadas = [\"TicketCount\", \"FamilyFare\"]\n",
    "\n",
    "profundidade = 8  # Profundidade da árvore\n",
    "minimo_amostras_por_folha = 5 # Quantidade mínima de dados por folha\n",
    "\n",
    "## --------------------------------------------------------------------- ##\n",
    "## Não altere o código abaixo\n",
    "XE5 = processar_dataframe(df, colunas_binarias_e5, colunas_categoricas_e5, colunas_numericas_e5)\n",
    "YE5 = df[\"Survived\"]\n",
    "\n",
    "modelo_arvoree5 = tree.DecisionTreeClassifier(max_depth=profundidade, min_samples_leaf=minimo_amostras_por_folha)\n",
    "modelo_arvoree5.fit(XE5, YE5)\n",
    "df[\"predicao arvore e5\"] = modelo_arvoree5.predict(XE5)\n",
    "\n",
    "acc_arvoree5 = metrics.accuracy_score(\n",
    "    df[\"Survived\"], \n",
    "    df[\"predicao arvore e5\"]\n",
    ")\n",
    "\n",
    "plot_acuracias(\n",
    "    [\"Simples\", \"Randômico\", \"Árvore 1\", \"Árvore 2\", \"Árvore E5\"], \n",
    "    [100*acc_simples, 100*acc_randomica, 100*acc_arvore1, 100*acc_arvore2, 100*acc_arvoree5],\n",
    "    PALETA,\n",
    "    \"Acurácia Treino\"\n",
    ")\n",
    "\n",
    "plot_tree(modelo_arvoree5, XE5.columns, classes)"
   ]
  },
  {
   "cell_type": "markdown",
   "metadata": {},
   "source": [
    "# 6. Teste de resistência\n",
    "![Afundando](dados/Stöwer_Titanic.jpg)\n",
    "\n",
    "\n",
    "Nós conseguimos modelar os dados que tínhamos em mãos, mas será que esse conhecimento generaliza para o conjunto de testes?\n",
    "\n",
    "Vamos tentar gerar, portanto, a coluna `Survived` para o conjunto de testes `df_teste`. Primeiro precisamos aplicar as mesmas transformações que fizemos para o _conjunto de treino_ `df`."
   ]
  },
  {
   "cell_type": "code",
   "execution_count": null,
   "metadata": {},
   "outputs": [],
   "source": [
    "df_teste = pd.read_csv(ARQUIVO_TESTE)\n",
    "\n",
    "df_teste[\"Age\"] = df_teste[\"Age\"].fillna(df[\"Age\"].median())\n",
    "df_teste[\"Fare\"] = df_teste[\"Fare\"].fillna(df[\"Fare\"].median())\n",
    "\n",
    "df_teste[\"Prefix\"] = df_teste[\"Name\"].str.extract(expressao_titulo)\n",
    "df_teste[\"Title\"] = df_teste[\"Prefix\"].apply(substituir_titulos)\n",
    "\n",
    "df_ticket_teste = df_teste.groupby([\"Ticket\"])[[\"Name\"]].count()\n",
    "df_ticket_teste = df_ticket_teste.rename(columns={\"Name\": \"TicketCount\"})\n",
    "df_teste = pd.merge(df_teste, df_ticket_teste, left_on=\"Ticket\", right_index=True).sort_index()\n",
    "\n",
    "df_teste[\"Child\"] = df_teste[\"Age\"] < 16\n",
    "\n",
    "df_teste[\"FamilySize\"] = df_teste[\"SibSp\"] + df_teste[\"SibSp\"]\n",
    "df_teste[\"FamilyFare\"] = df_teste[\"FamilySize\"] * df_teste[\"Fare\"]\n",
    "df_teste[\"NoRelatives\"] = df_teste[\"FamilySize\"] == 0\n",
    "\n",
    "X_teste1 = df_teste[[\"Age\", \"SibSp\", \"Parch\", \"Fare\"]]\n",
    "\n",
    "X_teste2 = processar_dataframe(df_teste, colunas_binarias, colunas_categoricas, colunas_numericas)\n",
    "X_teste2[\"Title_Royalty\"] = 0\n",
    "X_teste2 = X_teste2[X2.columns]\n",
    "X_teste2.head()"
   ]
  },
  {
   "cell_type": "markdown",
   "metadata": {},
   "source": [
    "Em seguida, com os mesmos modelos, podemos gerar predições. Vamos armazenar as predições nas mesmas colunas criadas anteriormente. \n",
    "\n",
    "Finalmente, podemos enviar os dados para o _Kaggle_ para testar o modelo e ver qual a taxa de acerto. Para simplificar esse processo, estamos fornecendo a função `verificar_respostas` que recebe um `DataFrame` e a coluna das respostas e retorna a acurácia do modelo."
   ]
  },
  {
   "cell_type": "code",
   "execution_count": null,
   "metadata": {},
   "outputs": [],
   "source": [
    "from respostas import verificar_respostas\n",
    "random.seed(1912)\n",
    "df_teste[\"predicao simples\"] = 1\n",
    "df_teste[\"predicao randomica\"] = [random.randint(0, 2) for i in range(len(df_teste))]\n",
    "df_teste[\"predicao arvore 1\"] = modelo_arvore1.predict(X_teste1)\n",
    "df_teste[\"predicao arvore 2\"] = modelo_arvore2.predict(X_teste2)\n",
    "\n",
    "acc_teste_simples = verificar_respostas(df_teste, \"predicao simples\")\n",
    "acc_teste_randomica = verificar_respostas(df_teste, \"predicao randomica\")\n",
    "acc_teste_arvore1 = verificar_respostas(df_teste, \"predicao arvore 1\")\n",
    "acc_teste_arvore2 = verificar_respostas(df_teste, \"predicao arvore 2\")\n",
    "\n",
    "plot_acuracias(\n",
    "    [\"Simples Treino\", \"Simples Teste\", \"Randômico Treino\", \"Randômico Teste\", \n",
    "     \"Árvore 1 Treino\", \"Árvore 1 Teste\", \"Árvore 2 Treino\", \"Árvore 2 Teste\"], \n",
    "    [100*acc_simples, 100*acc_teste_simples, 100*acc_randomica, 100*acc_teste_randomica, \n",
    "     100*acc_arvore1, 100*acc_teste_arvore1, 100*acc_arvore2, 100*acc_teste_arvore2],\n",
    "    [PALETA[0]]*2 + [PALETA[1]]*2+[PALETA[2]]*2 + [PALETA[3]]*2,\n",
    "    \"Acurácia Treino e Teste\"\n",
    ")"
   ]
  },
  {
   "cell_type": "markdown",
   "metadata": {},
   "source": [
    "Percebemos que a acurácia no _conjunto de teste_ para os modelos de árvore são sempre menores. Isso se deve ao fato de que o conhecimento modelado no _conjunto de treino_ nem sempre é o que melhor representa a realidade.\n",
    "\n",
    "Para algumas arquiteturas de modelo, é possível modelar o _conjunto de treino_ perfeitamente, ou seja, obter uma acurácia de 100%. Etretanto, esse valor não representa a distribuição total dos dados, e a acurácia no conjunto de testes pode ser até pior que a de alguns modelos mais simples.\n",
    "\n",
    "---\n",
    "## Exercícios\n",
    "### E6.\n",
    "Veja a acurácia do modelo criado no **exercício 5**, não é preciso editar o código abaixo. Se desejar, continue alterando o modelo **E5** e veja a diferença na acurácia de teste aqui:"
   ]
  },
  {
   "cell_type": "code",
   "execution_count": null,
   "metadata": {},
   "outputs": [],
   "source": [
    "X_testeE6 = processar_dataframe(df_teste, colunas_binarias_e5, colunas_categoricas_e5, colunas_numericas_e5)\n",
    "X_testeE6[\"Title_Royalty\"] = 0\n",
    "X_testeE6 = X_testeE6[XE5.columns]\n",
    "df_teste[\"predicao arvore e5\"] = modelo_arvoree5.predict(X_testeE6)\n",
    "\n",
    "acc_teste_arvoree5 = verificar_respostas(df_teste, \"predicao arvore e5\")\n",
    "\n",
    "plot_acuracias(\n",
    "    [\"Simples Treino\", \"Simples Teste\", \"Randômico Treino\", \"Randômico Teste\", \"Árvore 1 Treino\", \n",
    "     \"Árvore 1 Teste\", \"Árvore 2 Treino\", \"Árvore 2 Teste\", \"Árvore E5 Treino\", \"Árvore E5 Teste\"], \n",
    "    [100*acc_simples, 100*acc_teste_simples, 100*acc_randomica, 100*acc_teste_randomica, 100*acc_arvore1, \n",
    "     100*acc_teste_arvore1, 100*acc_arvore2, 100*acc_teste_arvore2, 100*acc_arvoree5, 100*acc_teste_arvoree5],\n",
    "    [PALETA[0]]*2 + [PALETA[1]]*2+[PALETA[2]]*2 + [PALETA[3]]*2 + [PALETA[4]]*2,\n",
    "    \"Acurácia Treino e Teste\",\n",
    "    rot=15\n",
    ")"
   ]
  },
  {
   "cell_type": "markdown",
   "metadata": {},
   "source": [
    "# Afundando!\n",
    "<img src=\"dados/jack.gif\" width=\"800px\">\n",
    "\n",
    "<span style=\"font-size: 2em\">Phew!</span> Lá se foi mais um bocado de tópicos!\n",
    "\n",
    "1. Implementamos um modelo de árvore de decisão e usamos a acurácia como métrica para avaliar a qualidade dos modelos.\n",
    "2. Trabalhamos com métodos para strings e vimos o poder do `regex`.\n",
    "3. Fizemos agrupamentos e fundimos tabelas de dados.\n",
    "4. Fizemos operações matemáticas nas colunas de dados.\n",
    "5. Treinamos outra árvore de decisão com mais caracterísitcas.\n",
    "6. Avaliamos os modelos no conjunto de dados de testes \n",
    "\n",
    "Enfim, `pandas` é vento em popa pra análise de dados!\n",
    "## Muito Obrigado!"
   ]
  }
 ],
 "metadata": {
  "kernelspec": {
   "display_name": "Python 3",
   "language": "python",
   "name": "python3"
  },
  "language_info": {
   "codemirror_mode": {
    "name": "ipython",
    "version": 3
   },
   "file_extension": ".py",
   "mimetype": "text/x-python",
   "name": "python",
   "nbconvert_exporter": "python",
   "pygments_lexer": "ipython3",
   "version": "3.7.4"
  }
 },
 "nbformat": 4,
 "nbformat_minor": 2
}
